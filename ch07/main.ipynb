{
 "cells": [
  {
   "cell_type": "code",
   "execution_count": 25,
   "id": "08e274b0",
   "metadata": {},
   "outputs": [],
   "source": [
    "from langchain_community.document_loaders import PyPDFLoader\n",
    "from langchain_text_splitters import RecursiveCharacterTextSplitter\n",
    "from langchain_openai import OpenAIEmbeddings, ChatOpenAI\n",
    "from langchain_chroma import Chroma\n",
    "from langchain.retrievers.multi_query import MultiQueryRetriever\n",
    "from langchain import hub\n",
    "from langchain_core.output_parsers import StrOutputParser\n",
    "from langchain_core.runnables import RunnablePassthrough\n",
    "\n",
    "import os\n",
    "from dotenv import load_dotenv, find_dotenv\n",
    "load_dotenv(find_dotenv())\n",
    "\n",
    "model_name = os.getenv(\"LLM_MODEL\") or \"gpt-4o-mini\"\n",
    "model_provider = os.getenv(\"LLM_MODEL_PROVIDER\") or \"openai\"\n"
   ]
  },
  {
   "cell_type": "code",
   "execution_count": 5,
   "id": "8ad5a908",
   "metadata": {},
   "outputs": [
    {
     "name": "stdout",
     "output_type": "stream",
     "text": [
      "page_content='운수 좋은날\n",
      "현진건\n",
      "새침하게 흐린 품이 눈이 올 듯하더니 눈은 아니 오고 얼다가 만 비가 추\n",
      "적추적 내리는 날이었다.\n",
      "이날이야말로 동소문 안에서 인력거꾼 노릇을 하는 김첨지에게는 오래간만\n",
      "에도 닥친 운수 좋은 날이었다 문안에 거기도 문밖은 아니지만 들어간답. ( )\n",
      "시는 앞집 마마님을 전찻길까지 모셔다 드린 것을 비롯으로 행여나 손님이\n",
      "있을까 하고 정류장에서 어정어정하며 내리는 사람 하나하나에게 거의 비는\n",
      "듯한 눈결을 보내고 있다가 마침내 교원인 듯한 양복쟁이를 동광학교(東光\n",
      "까지 태워다 주기로 되었다) .學校\n",
      "첫 번에 삼십전 둘째 번에 오십전 아침 댓바람에 그리 흉치 않은 일이, -\n",
      "었다 그야말로 재수가 옴붙어서 근 열흘 동안 돈 구경도 못한 김첨지는 십.\n",
      "전짜리 백동화 서 푼 또는 다섯 푼이 찰깍 하고 손바닥에 떨어질 제 거의,\n",
      "눈물을 흘릴 만큼 기뻤었다 더구나 이날 이때에 이 팔십 전이라는 돈이 그.\n",
      "에게 얼마나 유용한지 몰랐다 컬컬한 목에 모주 한 잔도 적실 수 있거니와.\n",
      "그보다도 앓는 아내에게 설렁탕 한 그릇도 사다 줄 수 있음이다.\n",
      "그의 아내가 기침으로 쿨룩거리기는 벌써 달포가 넘었다 조밥도 굶기를.\n",
      "먹다시피 하는 형편이니 물론 약 한 첩 써본 일이 없다 구태여 쓰려면 못.\n",
      "쓸 바도 아니로되 그는 병이란 놈에게 약을 주어 보내면 재미를 붙여서 자\n",
      "꾸 온다는 자기의 신조 에 어디까지 충실하였다 따라서 의사에게 보( ) .信條\n",
      "인 적이 없으니 무슨 병인지는 알 수 없으되 반듯이 누워 가지고 일어나기\n",
      "는 새로 모로도 못 눕는 걸 보면 중증은 중증인 듯 병이 이대도록 심해지.\n",
      "기는 열흘전에 조밥을 먹고 체한 때문이다 그때도 김첨지가 오래간만에 돈.\n",
      "을 얻어서 좁쌀 한 되와 십 전짜리 나무 한 단을 사다 주었더니 김첨지의\n",
      "말에 의지하면 그 오라질 년이 천방지축으로 냄비에 대고 끓였다 마음은.\n",
      "급하고 불길은 달지 않아 채 익지도 않은 것을 그 오라질년이 숟가락은 고\n",
      "만두고 손으로 움켜서 두 뺨에 주먹덩이 같은 혹이 불거지도록 누가 빼앗을\n",
      "듯이 처박질하더니만 그날 저녁부터 가슴이 땡긴다 배가 켕긴다고 눈을 흡,\n",
      "뜨고 지랄병을 하였다 그때 김첨지는 열화와 같이 성을 내며. ,\n",
      "에이 오라질년 조랑복은 할 수가 없어 못 먹어 병 먹어서 병 어쩌“ , , , , !\n",
      "란 말이야 왜 눈을 바루 뜨지 못해! !”\n",
      "하고 앓는 이의 뺨을 한 번 후려갈겼다 흡뜬 눈은 조금 바루어졌건만 이슬.' metadata={'producer': 'ezPDF Builder 2006', 'creator': 'ezPDF Builder 2006', 'creationdate': '2010-03-19T13:04:08+09:00', 'moddate': '2010-03-19T13:04:08+09:00', 'source': '../data/unsu.pdf', 'total_pages': 10, 'page': 0, 'page_label': '1'}\n"
     ]
    }
   ],
   "source": [
    "loader = PyPDFLoader(\"../data/unsu.pdf\")\n",
    "pages = loader.load_and_split()\n",
    "\n",
    "print(pages[0])"
   ]
  },
  {
   "cell_type": "code",
   "execution_count": 9,
   "id": "1515d3d8",
   "metadata": {},
   "outputs": [
    {
     "name": "stdout",
     "output_type": "stream",
     "text": [
      "page_content='운수 좋은날\n",
      "현진건\n",
      "새침하게 흐린 품이 눈이 올 듯하더니 눈은 아니 오고 얼다가 만 비가 추\n",
      "적추적 내리는 날이었다.\n",
      "이날이야말로 동소문 안에서 인력거꾼 노릇을 하는 김첨지에게는 오래간만\n",
      "에도 닥친 운수 좋은 날이었다 문안에 거기도 문밖은 아니지만 들어간답. ( )\n",
      "시는 앞집 마마님을 전찻길까지 모셔다 드린 것을 비롯으로 행여나 손님이\n",
      "있을까 하고 정류장에서 어정어정하며 내리는 사람 하나하나에게 거의 비는\n",
      "듯한 눈결을 보내고 있다가 마침내 교원인 듯한 양복쟁이를 동광학교(東光\n",
      "까지 태워다 주기로 되었다) .學校' metadata={'producer': 'ezPDF Builder 2006', 'creator': 'ezPDF Builder 2006', 'creationdate': '2010-03-19T13:04:08+09:00', 'moddate': '2010-03-19T13:04:08+09:00', 'source': '../data/unsu.pdf', 'total_pages': 10, 'page': 0, 'page_label': '1'}\n"
     ]
    }
   ],
   "source": [
    "text_splitter = RecursiveCharacterTextSplitter(\n",
    "    chunk_size=300,\n",
    "    chunk_overlap=20,\n",
    "    length_function=len,\n",
    "    is_separator_regex=False,\n",
    ")\n",
    "\n",
    "texts = text_splitter.split_documents(pages)\n",
    "\n",
    "print(texts[0])"
   ]
  },
  {
   "cell_type": "code",
   "execution_count": 13,
   "id": "927ae230",
   "metadata": {},
   "outputs": [],
   "source": [
    "embeddings_model = OpenAIEmbeddings(\n",
    "    model=\"text-embedding-3-large\",\n",
    ")\n"
   ]
  },
  {
   "cell_type": "code",
   "execution_count": 16,
   "id": "a8f45b44",
   "metadata": {},
   "outputs": [],
   "source": [
    "db = Chroma.from_documents(texts, embeddings_model)"
   ]
  },
  {
   "cell_type": "code",
   "execution_count": 18,
   "id": "8336bd79",
   "metadata": {},
   "outputs": [],
   "source": [
    "llm = ChatOpenAI(model=model_name, temperature=0)"
   ]
  },
  {
   "cell_type": "code",
   "execution_count": 21,
   "id": "30a2154e",
   "metadata": {},
   "outputs": [],
   "source": [
    "question = \"아내가 먹고 싶어하는 음식은 무엇이야?\"\n",
    "\n",
    "retriever_from_llm = MultiQueryRetriever.from_llm(\n",
    "    retriever=db.as_retriever(),\n",
    "    llm=llm\n",
    ")"
   ]
  },
  {
   "cell_type": "code",
   "execution_count": 22,
   "id": "cc8801bf",
   "metadata": {},
   "outputs": [
    {
     "name": "stdout",
     "output_type": "stream",
     "text": [
      "7\n",
      "[Document(id='32effaa0-026a-4dd3-b596-e01a00b4d271', metadata={'total_pages': 10, 'page': 1, 'producer': 'ezPDF Builder 2006', 'source': '../data/unsu.pdf', 'moddate': '2010-03-19T13:04:08+09:00', 'page_label': '2', 'creator': 'ezPDF Builder 2006', 'creationdate': '2010-03-19T13:04:08+09:00'}, page_content='이 맺히었다 김첨지의 눈시울도 뜨끈뜨끈하였다. .\\n이 환자가 그러고도 먹는 데는 물리지 않았다 사흘 전부터 설렁탕 국물이.\\n마시고 싶다고 남편을 졸랐다.\\n이런 오라질 년 조밥도 못 먹는 년이 설렁탕은 또 처먹고 지랄병을 하“ ! .\\n게.”\\n라고 야단을 쳐보았건만 못 사주는 마음이 시원치는 않았다, , .\\n인제 설렁탕을 사줄 수도 있다 앓는 어미 곁에서 배고파 보채는 개똥이.\\n세살먹이 에게 죽을 사줄 수도 있다 팔십 전을 손에 쥔 김 첨지의 마음( ) -\\n은 푼푼하였다.'), Document(id='f4f2f03e-54e4-4743-8bda-458a7809a72a', metadata={'creationdate': '2010-03-19T13:04:08+09:00', 'moddate': '2010-03-19T13:04:08+09:00', 'page_label': '8', 'total_pages': 10, 'creator': 'ezPDF Builder 2006', 'source': '../data/unsu.pdf', 'producer': 'ezPDF Builder 2006', 'page': 7}, page_content='씩 더 먹고 나왔다 궂은비는 의연히 추적추적 내린다. .'), Document(id='bdc57999-19b2-41bd-830e-cbc4dc96fb7c', metadata={'page': 1, 'moddate': '2010-03-19T13:04:08+09:00', 'source': '../data/unsu.pdf', 'page_label': '2', 'producer': 'ezPDF Builder 2006', 'total_pages': 10, 'creationdate': '2010-03-19T13:04:08+09:00', 'creator': 'ezPDF Builder 2006'}, page_content='집 마마님한테서 부르러 왔을 제 병인은 뼈만 남은 얼굴에 유일의 샘물 같\\n은 유달리 크고 움푹한 눈에 애걸하는 빛을 띄우며,\\n오늘은 나가지 말아요 제발 덕분에 집에 붙어 있어요 내가 이렇게 아“ . .\\n픈데 .”……\\n라고 모기 소리같이 중얼거리고 숨을 걸그렁걸그렁하였다 그때에 김첨지, .\\n는 대수롭지 않은듯이,\\n아따 젠장맞을 년 별 빌어먹을 소리를 다 하네 맞붙들고 앉았으면 누“ , , .\\n가 먹여 살릴 줄 알아.”\\n하고 훌쩍 뛰어나오려니까 환자는 붙잡을 듯이 팔을 내저으며,'), Document(id='a5e72b2b-fc38-4d5c-8f35-c4973c6cb8ab', metadata={'moddate': '2010-03-19T13:04:08+09:00', 'creator': 'ezPDF Builder 2006', 'page': 5, 'total_pages': 10, 'page_label': '6', 'producer': 'ezPDF Builder 2006', 'creationdate': '2010-03-19T13:04:08+09:00', 'source': '../data/unsu.pdf'}, page_content='째 물독에 빠진 새앙쥐 같은가 어서 이리 들어와 말리게. .”\\n선술집은 훈훈하고 뜨뜻하였다 추어탕을 끓이는 솥뚜껑을 열 적마다 뭉게.\\n뭉게 떠오르는 흰김 석쇠에서 뻐지짓뻐지짓 구워지는 너비아니구이며 제육\\n이며 간이며 콩팥이며 북어며 빈대떡 이 너저분하게 늘어놓인 안주 탁자……\\n에 김첨지는 갑자기 속이 쓰려서 견딜 수 없었다 마음대로 할 양이면 거기.\\n있는 모든 먹음먹이를 모조리 깡그리 집어삼켜도 시원치 않았다 하되 배고\\n픈 이는 위선 분량 많은 빈대떡 두 개를 쪼이기도 하고 추어탕을 한 그릇'), Document(id='d3c5823b-05bb-494b-bc37-50453dda5e62', metadata={'creationdate': '2010-03-19T13:04:08+09:00', 'producer': 'ezPDF Builder 2006', 'page_label': '1', 'moddate': '2010-03-19T13:04:08+09:00', 'page': 0, 'source': '../data/unsu.pdf', 'creator': 'ezPDF Builder 2006', 'total_pages': 10}, page_content='그의 아내가 기침으로 쿨룩거리기는 벌써 달포가 넘었다 조밥도 굶기를.\\n먹다시피 하는 형편이니 물론 약 한 첩 써본 일이 없다 구태여 쓰려면 못.\\n쓸 바도 아니로되 그는 병이란 놈에게 약을 주어 보내면 재미를 붙여서 자\\n꾸 온다는 자기의 신조 에 어디까지 충실하였다 따라서 의사에게 보( ) .信條\\n인 적이 없으니 무슨 병인지는 알 수 없으되 반듯이 누워 가지고 일어나기\\n는 새로 모로도 못 눕는 걸 보면 중증은 중증인 듯 병이 이대도록 심해지.\\n기는 열흘전에 조밥을 먹고 체한 때문이다 그때도 김첨지가 오래간만에 돈.'), Document(id='243f9834-4ddd-4bdd-9761-1eba4f3218bb', metadata={'total_pages': 10, 'page': 8, 'producer': 'ezPDF Builder 2006', 'moddate': '2010-03-19T13:04:08+09:00', 'creator': 'ezPDF Builder 2006', 'page_label': '9', 'creationdate': '2010-03-19T13:04:08+09:00', 'source': '../data/unsu.pdf'}, page_content='층 더 침묵을 깊게 하고 불길하게 하는 빡빡 하는 그윽한 소리 어린애의,\\n젖 빠는 소리가 날 뿐이다 만일 청각 이 예민한 이 같으면 그 빡빡. ( )聽覺\\n소리는 빨 따름이요 꿀떡꿀떡 하고 젖 넘어가는 소리가 없으니 빈 젖을 빤,\\n다는 것도 짐작할는지 모르리라.\\n혹은 김첨지도 이 불길한 침묵을 짐작했는지도 모른다 그렇지 않으면 대.\\n문에 들어서자마자 전에 없이,\\n이 난장맞을 년 남편이 들어오는데 나와 보지도 않아 이 오라질 년“ , , .”\\n이라고 고함을 친 게 수상하다 이 고함이야말로 제 몸을 엄습해 오는 무시.'), Document(id='28b6bb79-2014-4275-9446-c40296e28386', metadata={'producer': 'ezPDF Builder 2006', 'moddate': '2010-03-19T13:04:08+09:00', 'creationdate': '2010-03-19T13:04:08+09:00', 'total_pages': 10, 'page': 5, 'creator': 'ezPDF Builder 2006', 'page_label': '6', 'source': '../data/unsu.pdf'}, page_content='청하였다 주린 창자는 음식맛을 보더니 더욱더욱 비어지며 자꾸자꾸 들이.\\n라 들이라 하였다 순식간에 두부와 미꾸리 든 국 한 그릇을 그냥 물같이.\\n들이켜고 말았다 셋째 그릇을 받아 들었을 제 데우던 막걸리 곱배기 두 잔.\\n이 더웠다 치삼이와 같이 마시자 원원이 비었던 속이라 찌르를 하고 창자.\\n에 퍼지며 얼굴이 화끈하였다 눌러 곱배기 한 잔을 또 마셨다. .\\n김첨지의 눈은 벌써 개개 풀리기 시작하였다 석쇠에 얹힌 떡 두 개를 숭.\\n덩숭덩 썰어서 볼을 불룩거리며 또 곱배기 두 잔을 부어라 하였다.\\n치삼은 의아한 듯이 김첨지를 보며,')]\n"
     ]
    }
   ],
   "source": [
    "docs = retriever_from_llm.invoke(question)\n",
    "print(len(docs))\n",
    "print(docs)"
   ]
  },
  {
   "cell_type": "code",
   "execution_count": 28,
   "id": "3705750a",
   "metadata": {},
   "outputs": [],
   "source": [
    "prompt = hub.pull(\"rlm/rag-prompt\")"
   ]
  },
  {
   "cell_type": "code",
   "execution_count": 29,
   "id": "98fabdf6",
   "metadata": {},
   "outputs": [
    {
     "data": {
      "text/plain": [
       "'아내가 먹고 싶어하는 음식은 설렁탕입니다. 맥락에서 아내는 설렁탕 국물을 마시고 싶어한다고 언급되어 있습니다. 김첨지는 아내의 병과 배고픔을 걱정하며 설렁탕을 사줄 마음을 품고 있습니다.'"
      ]
     },
     "execution_count": 29,
     "metadata": {},
     "output_type": "execute_result"
    }
   ],
   "source": [
    "def format_docs(docs):\n",
    "    return \"\\n\\n\".join([doc.page_content for doc in docs])\n",
    "\n",
    "rag_chain = (\n",
    "    {\"context\": retriever_from_llm | format_docs, \"question\": RunnablePassthrough()}\n",
    "    | prompt \n",
    "    | llm \n",
    "    | StrOutputParser()\n",
    ")\n",
    "\n",
    "rag_chain.invoke({\"input\": question})"
   ]
  }
 ],
 "metadata": {
  "kernelspec": {
   "display_name": ".venv",
   "language": "python",
   "name": "python3"
  },
  "language_info": {
   "codemirror_mode": {
    "name": "ipython",
    "version": 3
   },
   "file_extension": ".py",
   "mimetype": "text/x-python",
   "name": "python",
   "nbconvert_exporter": "python",
   "pygments_lexer": "ipython3",
   "version": "3.12.9"
  }
 },
 "nbformat": 4,
 "nbformat_minor": 5
}
