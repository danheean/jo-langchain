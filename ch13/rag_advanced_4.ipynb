{
 "cells": [
  {
   "cell_type": "code",
   "execution_count": 1,
   "id": "353822a2",
   "metadata": {},
   "outputs": [
    {
     "name": "stderr",
     "output_type": "stream",
     "text": [
      "USER_AGENT environment variable not set, consider setting it to identify your requests.\n"
     ]
    }
   ],
   "source": [
    "import os\n",
    "from dotenv import load_dotenv, find_dotenv\n",
    "\n",
    "load_dotenv(find_dotenv())\n",
    "\n",
    "from langchain_openai import OpenAIEmbeddings, OpenAI\n",
    "from langchain_core.prompts import PromptTemplate\n",
    "\n",
    "model_name = os.getenv(\"LLM_MODEL\") or \"gpt-4o-mini\"\n",
    "model_provider = os.getenv(\"LLM_PROVIDER\") or \"openai\"\n",
    "\n",
    "import bs4\n",
    "from langchain.text_splitter import RecursiveCharacterTextSplitter\n",
    "from langchain_community.document_loaders import WebBaseLoader\n",
    "from langchain_community.vectorstores import Chroma\n",
    "from langchain_core.output_parsers import StrOutputParser\n",
    "from langchain_core.runnables import RunnablePassthrough\n",
    "from langchain_openai import OpenAIEmbeddings, ChatOpenAI\n",
    "\n",
    "\n",
    "from langchain import hub\n",
    "\n"
   ]
  },
  {
   "cell_type": "code",
   "execution_count": 2,
   "id": "b8d27392",
   "metadata": {},
   "outputs": [],
   "source": [
    "#### INDEXING ####\n",
    "loader = WebBaseLoader(\n",
    "    web_paths=[\"https://news.naver.com/section/101\"],\n",
    "    bs_kwargs=dict(\n",
    "        parse_only=bs4.SoupStrainer(\n",
    "            class_=(\"sa_text\", \"sa_item SECTION_HEADLINE\")\n",
    "        )\n",
    "    )\n",
    ")\n",
    "\n",
    "docs = loader.load()"
   ]
  },
  {
   "cell_type": "code",
   "execution_count": 3,
   "id": "802ee859",
   "metadata": {},
   "outputs": [],
   "source": [
    "# Split\n",
    "text_splitter = RecursiveCharacterTextSplitter.from_tiktoken_encoder(\n",
    "    encoding_name=\"cl100k_base\",\n",
    "    chunk_size=300,\n",
    "    chunk_overlap=50\n",
    ")\n",
    "splits = text_splitter.split_documents(docs)\n"
   ]
  },
  {
   "cell_type": "code",
   "execution_count": 4,
   "id": "3e9663e3",
   "metadata": {},
   "outputs": [],
   "source": [
    "from langchain_openai import OpenAIEmbeddings\n",
    "from langchain_community.vectorstores import Chroma\n",
    "\n",
    "vectorstore = Chroma.from_documents(\n",
    "    documents=splits,\n",
    "    embedding=OpenAIEmbeddings(\n",
    "        model=\"text-embedding-3-large\",   \n",
    "    )\n",
    ")"
   ]
  },
  {
   "cell_type": "code",
   "execution_count": 5,
   "id": "135465e7",
   "metadata": {},
   "outputs": [],
   "source": [
    "chroma_retriever = vectorstore.as_retriever(\n",
    "    search_type=\"mmr\",\n",
    "    search_kwargs=dict(\n",
    "        k=1,\n",
    "        fetch_k=4\n",
    "    )\n",
    ")\n",
    "\n"
   ]
  },
  {
   "cell_type": "code",
   "execution_count": 6,
   "id": "3e8d4f71",
   "metadata": {},
   "outputs": [],
   "source": [
    "from langchain.retrievers import BM25Retriever, EnsembleRetriever\n",
    "bm25_retriever = BM25Retriever.from_documents(splits)\n",
    "bm25_retriever.k = 2\n",
    "\n",
    "ensemble_retriever = EnsembleRetriever(\n",
    "    retrievers=[chroma_retriever, bm25_retriever],\n",
    "    weights=[0.2, 0.8]\n",
    ")\n"
   ]
  },
  {
   "cell_type": "code",
   "execution_count": 7,
   "id": "7c217b89",
   "metadata": {},
   "outputs": [],
   "source": [
    "query = \"향후 집갑에 대해서 알려줘\""
   ]
  },
  {
   "cell_type": "code",
   "execution_count": 8,
   "id": "5d702733",
   "metadata": {},
   "outputs": [],
   "source": [
    "def print_docs(docs):\n",
    "    print(\"=\"*100)    \n",
    "    for doc in docs:\n",
    "        print(doc.page_content)\n",
    "        print(\"-\"*100)"
   ]
  },
  {
   "cell_type": "code",
   "execution_count": 10,
   "id": "6861a96b",
   "metadata": {},
   "outputs": [],
   "source": [
    "docs = ensemble_retriever.invoke(query)"
   ]
  },
  {
   "cell_type": "code",
   "execution_count": 11,
   "id": "938b3605",
   "metadata": {},
   "outputs": [
    {
     "name": "stdout",
     "output_type": "stream",
     "text": [
      "[Document(metadata={'source': 'https://news.naver.com/section/101'}, page_content='美 연준 \"금리 인하 어려울 것\"…비트코인 11.1만 달러 하락[코인브리핑]\\n\\n최재헌 기자 연준 매파적 발언에 위험자산 투자심리 위축 미국 연방준비제도(연준)가 다음 달 기준금리 인하 가능성을 낮게 점치자, 비트코인(BTC) 가격이 11만 1000달러 선까지 밀려났다. 22일 오전 9시 40분\\n\\n\\n뉴스1\\n\\n48분전'), Document(metadata={'source': 'https://news.naver.com/section/101'}, page_content=\"[단독]프랑스 가스 제조사 에어리퀴드, '몸값 4조' DIG에어가스 본계약 체결\\n\\n이 기사는 08월 22일 11:42 마켓인사이트에 게재된 기사입니다. 글로벌 산업용 가스 제조사 에어리퀴드가 DIG에어가스를 인수한다. 에어리퀴드는 이번 인수합병(M&A)으로 2014년 대성산업가스 지분을 전량 매각\\n\\n\\n한국경제\\n\\n14분전\\n\\n\\n\\n\\n\\n\\n\\n\\n그룹 총수들 총출동...트럼프에 선물 보따리 안긴다\"), Document(metadata={'source': 'https://news.naver.com/section/101'}, page_content=\"헤럴드경제\\n\\n32분전\\n\\n\\n\\n\\n\\n\\n\\n\\nLS일렉트릭, 美 고율관세 피하는 법…변압기 대신 배전반\\n\\nLS일렉트릭이 미국의 철강·알루미늄 파생제품에 최대 50%의 고율관세가 부과되는 상황에서 '관세 무풍지대'로 꼽히는 배전반 전략을 강화한다. 경쟁사가 관세 부담이 큰 변압기의 현지 생산 확대에 나서는 것과 달리, L\\n\\n\\n아시아경제\\n\\n33분전\\n\\n\\n\\n\\n\\n\\n\\n\\n외국인이 전액 예금으로?…실거주 안 하면 막힌다\")]\n"
     ]
    }
   ],
   "source": [
    "print(docs)"
   ]
  },
  {
   "cell_type": "code",
   "execution_count": 12,
   "id": "47bc47c2",
   "metadata": {},
   "outputs": [
    {
     "name": "stdout",
     "output_type": "stream",
     "text": [
      "['집값이 앞으로 어떻게 변할까요?  ', '향후 부동산 가격은 어떤 방향으로 움직일까요?  ', '주택 시장의 가격 추세는 어떻게 될지 궁금합니다.  ', '앞으로 집값 상승 또는 하락 전망은 어떠한가요?  ', '부동산 가격 변동에 영향을 미치는 요인은 무엇일까요?']\n"
     ]
    }
   ],
   "source": [
    "from langchain.prompts import ChatPromptTemplate\n",
    "from langchain_core.output_parsers import StrOutputParser\n",
    "from langchain_openai import ChatOpenAI\n",
    "\n",
    "template = \"\"\"\n",
    "당신은 AI 언어 모델 조수입니다. 당신의 임무는 주어진 사용자 질문에 대해 벡터 데이터베이스에서 관련 문서를 검색할 수 있도록 다섯 가지 다른 버전을 생성하는 것이빈다.\n",
    "사용자 질문에 대한 여러 관점을 생성함으로써, 거리 기반 유사성 검색의 한계를 극복하는 데 도움을 주는 것이 목표입니다.\n",
    "각 질문은 새로운 줄로 구분하여 제공하세요. 원본 질문: {question}\n",
    "\"\"\"\n",
    "\n",
    "prompt_perspectives = ChatPromptTemplate.from_template(template)\n",
    "\n",
    "\n",
    "generate_queries = (\n",
    "    prompt_perspectives\n",
    "    | ChatOpenAI(model=model_name, temperature=0)\n",
    "    | StrOutputParser()\n",
    "    |(lambda x: x.split(\"\\n\"))\n",
    ")\n",
    "\n",
    "generated_query = generate_queries.invoke(\"집값의 향방?\")\n",
    "print(generated_query)\n",
    "\n"
   ]
  },
  {
   "cell_type": "code",
   "execution_count": 13,
   "id": "3a553a6e",
   "metadata": {},
   "outputs": [],
   "source": [
    "from langchain.load import dumps, loads\n",
    "\n",
    "def reciprocal_rank_fusion(results: list[list], k=60, top_n=2):\n",
    "    \"\"\"\n",
    "    여러 개의 순위가 매겨진 문서 리스트를 받아, RRF(Reciprocal Rank Fusion) 공식을 사용하여 문서의 최종 순위를 계산하는 함수입니다. \n",
    "    k는 RRF 공식에서 사용되는 선택적 파라미터이며, top_n은 반환할 우선순위가 높은 문서의 개수입니다.\n",
    "    \"\"\"\n",
    "\n",
    "    fused_scores = {}\n",
    "\n",
    "    for docs in results:\n",
    "        for rank, doc in enumerate(docs):\n",
    "            doc_str = dumps(doc)\n",
    "            if doc_str not in fused_scores:\n",
    "                fused_scores[doc_str] = 0\n",
    "            previous_score = fused_scores[doc_str]\n",
    "            fused_scores[doc_str] = 1 / (rank + 1)\n",
    "\n",
    "    fused_results = [\n",
    "        (loads(doc), score)\n",
    "        for doc, score in sorted(fused_scores.items(), key=lambda x: x[1], reverse=True)\n",
    "    ]\n",
    "\n",
    "    return fused_results[:top_n]"
   ]
  },
  {
   "cell_type": "code",
   "execution_count": 14,
   "id": "136b05aa",
   "metadata": {},
   "outputs": [],
   "source": [
    "question = \"향후 집값에 대해서 알려줘\"\n"
   ]
  },
  {
   "cell_type": "code",
   "execution_count": 15,
   "id": "27bd548a",
   "metadata": {},
   "outputs": [],
   "source": [
    "retrievel_chain_rag_fusion = generate_queries | ensemble_retriever.map() | reciprocal_rank_fusion"
   ]
  },
  {
   "cell_type": "code",
   "execution_count": 17,
   "id": "ea2df1c9",
   "metadata": {},
   "outputs": [],
   "source": [
    "docs = retrievel_chain_rag_fusion.invoke(query)\n",
    "#print_docs(docs)\n",
    "\n"
   ]
  },
  {
   "cell_type": "code",
   "execution_count": 18,
   "id": "a7785447",
   "metadata": {},
   "outputs": [
    {
     "data": {
      "text/plain": [
       "[(Document(metadata={'source': 'https://news.naver.com/section/101'}, page_content='美 연준 \"금리 인하 어려울 것\"…비트코인 11.1만 달러 하락[코인브리핑]\\n\\n최재헌 기자 연준 매파적 발언에 위험자산 투자심리 위축 미국 연방준비제도(연준)가 다음 달 기준금리 인하 가능성을 낮게 점치자, 비트코인(BTC) 가격이 11만 1000달러 선까지 밀려났다. 22일 오전 9시 40분\\n\\n\\n뉴스1\\n\\n48분전'),\n",
       "  1.0),\n",
       " (Document(metadata={'source': 'https://news.naver.com/section/101'}, page_content='44분전\\n\\n\\n\\n\\n\\n\\n\\n\\n아산·광명·검단, 보증수표 된 검증 입지 후속 분양… 하반기 시장 주도\\n\\n부동산 시장에서 옥석 가리기가 심화되면서 이미 검증된 입지에서 후속으로 공급되는 단지들이 강세를 보이고 있다. 충남 아산 탕정지구, 경기 광명뉴타운, 동탄2신도시, 충북 청주테크노폴리스 등은 최근 분양 성적을 통해 \\n\\n\\n동아일보\\n\\n45분전\\n\\n\\n\\n\\n\\n\\n\\n\\n[속보]법원, 티몬 회생절차 종결 결정…법정관리 졸업'),\n",
       "  1.0)]"
      ]
     },
     "execution_count": 18,
     "metadata": {},
     "output_type": "execute_result"
    }
   ],
   "source": [
    "docs"
   ]
  },
  {
   "cell_type": "code",
   "execution_count": 19,
   "id": "1f1f024a",
   "metadata": {},
   "outputs": [
    {
     "name": "stdout",
     "output_type": "stream",
     "text": [
      "주어진 뉴스 맥락을 바탕으로 향후 집값 전망에 대해 말씀드리면, 현재 부동산 시장에서는 입지가 이미 검증된 지역에서 후속 분양되는 단지들이 강세를 보이고 있습니다. 즉, 충남 아산 탕정지구, 경기 광명뉴타운, 동탄2신도시, 충북 청주테크노폴리스 등 검증된 입지의 신규 분양 단지들이 좋은 분양 성적을 기록하고 있어, 이런 지역을 중심으로 집값이 상대적으로 안정적이거나 상승세를 이어갈 가능성이 높습니다.\n",
      "\n",
      "반면, 입지가 불확실하거나 검증되지 않은 지역은 옥석 가리기가 심화되고 있어 집값 변동성이 클 수 있으니 주의가 필요합니다.\n",
      "\n",
      "요약하면, 향후 집값은 입지와 개발 호재가 명확한 지역을 중심으로 강세를 보일 것으로 예상되며, 검증된 입지의 후속 분양 단지들이 시장을 주도할 전망입니다.\n"
     ]
    }
   ],
   "source": [
    "from langchain_openai import ChatOpenAI\n",
    "from langchain_core.runnables import RunnablePassthrough\n",
    "\n",
    "template = \"\"\"다음 맥락을 바탕으로 질문에 답변하세요:\n",
    "\n",
    "{context}\n",
    "\n",
    "질문: {question}\n",
    "\"\"\"\n",
    "\n",
    "prompt = ChatPromptTemplate.from_template(template)\n",
    "\n",
    "final_rag_chain = (\n",
    "    {\n",
    "        \"context\": retrievel_chain_rag_fusion,\n",
    "        \"question\": RunnablePassthrough()\n",
    "    }\n",
    "    | prompt\n",
    "    | ChatOpenAI(model=model_name, temperature=0)\n",
    "    | StrOutputParser()\n",
    ")\n",
    "\n",
    "rag_docs = final_rag_chain.invoke(question)\n",
    "print(rag_docs)"
   ]
  }
 ],
 "metadata": {
  "kernelspec": {
   "display_name": ".venv",
   "language": "python",
   "name": "python3"
  },
  "language_info": {
   "codemirror_mode": {
    "name": "ipython",
    "version": 3
   },
   "file_extension": ".py",
   "mimetype": "text/x-python",
   "name": "python",
   "nbconvert_exporter": "python",
   "pygments_lexer": "ipython3",
   "version": "3.12.9"
  }
 },
 "nbformat": 4,
 "nbformat_minor": 5
}
