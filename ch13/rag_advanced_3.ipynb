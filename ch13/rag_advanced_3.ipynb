{
 "cells": [
  {
   "cell_type": "code",
   "execution_count": 7,
   "id": "c859d0f3",
   "metadata": {},
   "outputs": [],
   "source": [
    "import os\n",
    "from pathlib import Path\n",
    "from dotenv import load_dotenv, find_dotenv\n",
    "\n",
    "load_dotenv(find_dotenv())\n",
    "\n",
    "from langchain_openai import OpenAIEmbeddings, ChatOpenAI\n",
    "from langchain_core.prompts import PromptTemplate\n",
    "\n",
    "model_name = os.getenv(\"LLM_MODEL\") or \"gpt-4o-mini\"\n",
    "model_provider = os.getenv(\"LLM_PROVIDER\") or \"openai\"\n",
    "\n",
    "from langchain.retrievers.multi_query import MultiQueryRetriever\n",
    "from langchain_openai import ChatOpenAI, OpenAIEmbeddings\n",
    "from langchain_community.vectorstores import Chroma\n",
    "from langchain.text_splitter import RecursiveCharacterTextSplitter\n",
    "from langchain.document_loaders import PyPDFLoader\n",
    "\n",
    "current_dir = Path.cwd()\n",
    "data_dir = current_dir.parent / \"data\"\n",
    "index_dir = current_dir.parent / \"index\"\n"
   ]
  },
  {
   "cell_type": "code",
   "execution_count": 8,
   "id": "b0e0e875",
   "metadata": {},
   "outputs": [
    {
     "data": {
      "text/plain": [
       "pathlib.PosixPath"
      ]
     },
     "execution_count": 8,
     "metadata": {},
     "output_type": "execute_result"
    }
   ],
   "source": [
    "type(data_dir)"
   ]
  },
  {
   "cell_type": "code",
   "execution_count": 9,
   "id": "ddcaf570",
   "metadata": {},
   "outputs": [
    {
     "data": {
      "text/plain": [
       "[Document(metadata={'producer': 'Skia/PDF m125', 'creator': 'Chromium', 'creationdate': '2024-07-03T03:24:25+00:00', 'title': '경제 : 네이버 뉴스', 'moddate': '2024-07-03T03:24:25+00:00', 'source': '/Users/jurepi/Work/Study/jo-langchain/data/sample.pdf', 'total_pages': 4, 'page': 0, 'page_label': '1'}, page_content='에코프로  공급물량  신청  사이트 ?…\" 사\\n기입니다 \"\\n\"60 세  이상  고용률  높이면  잠재성장률\\n증가 \"… 노동시장  유연성  전제돼야\\n\\'오염물질 · 온실가스  무배출 \\' 수소차  첫\\n등록  5 년  만에  1000 대  돌파\\n다시  불어온  청약  광풍 … 하루에  17 만명\\n몰려'),\n",
       " Document(metadata={'producer': 'Skia/PDF m125', 'creator': 'Chromium', 'creationdate': '2024-07-03T03:24:25+00:00', 'title': '경제 : 네이버 뉴스', 'moddate': '2024-07-03T03:24:25+00:00', 'source': '/Users/jurepi/Work/Study/jo-langchain/data/sample.pdf', 'total_pages': 4, 'page': 0, 'page_label': '1'}, page_content='몰려\\n롯데바이오 , 송도에  바이오의약품  생산\\n플랜트  착공 … 경제효과  7.6 조원\\n대기업  CEO 들도  \\' 고령화 \\'… 서울대  출\\n신은  줄었다\\n“엄청난  회복세 ”… 테슬라 , 주가  10%\\n넘게  급등\\n이복현  금감원장  \" 증권사 , 손쉬운  수익'),\n",
       " Document(metadata={'producer': 'Skia/PDF m125', 'creator': 'Chromium', 'creationdate': '2024-07-03T03:24:25+00:00', 'title': '경제 : 네이버 뉴스', 'moddate': '2024-07-03T03:24:25+00:00', 'source': '/Users/jurepi/Work/Study/jo-langchain/data/sample.pdf', 'total_pages': 4, 'page': 0, 'page_label': '1'}, page_content='이복현  금감원장  \" 증권사 , 손쉬운  수익\\n원  찾는  영업  관행  바뀌어야 \"\\n2027 년부터  초소형  관측위성이  한반\\n도  온실가스  감시한다\\n카카오뱅크 , 대구신보와  375 억  규모\\n소상공인  지원  협약\\n헤드라인  뉴스  \\n연합뉴스\\n 16\\n 데일리안\\n 12\\n뉴스 1\\n 11'),\n",
       " Document(metadata={'producer': 'Skia/PDF m125', 'creator': 'Chromium', 'creationdate': '2024-07-03T03:24:25+00:00', 'title': '경제 : 네이버 뉴스', 'moddate': '2024-07-03T03:24:25+00:00', 'source': '/Users/jurepi/Work/Study/jo-langchain/data/sample.pdf', 'total_pages': 4, 'page': 0, 'page_label': '1'}, page_content='연합뉴스\\n 16\\n 데일리안\\n 12\\n뉴스 1\\n 11\\n 한국경제 TV\\n 32\\n헤럴드경제\\n 43\\n 파이낸셜뉴스\\n 15\\n한겨레\\n 35\\n SBS\\n 35\\n경향신문\\n 32\\n 머니투데이\\n 12\\n원초적  질문\\n상시근로자  4.9 명은  5 명  미만일까  이상일까\\n더스쿠프'),\n",
       " Document(metadata={'producer': 'Skia/PDF m125', 'creator': 'Chromium', 'creationdate': '2024-07-03T03:24:25+00:00', 'title': '경제 : 네이버 뉴스', 'moddate': '2024-07-03T03:24:25+00:00', 'source': '/Users/jurepi/Work/Study/jo-langchain/data/sample.pdf', 'total_pages': 4, 'page': 0, 'page_label': '1'}, page_content='더스쿠프\\n금투세  시행하면  정말  \\' 부양가족  인적공제 \\' 못  받아 ?더스쿠프 100+\\n\"본사  영업이익률  41.2%\" 컴포즈커피  가맹점도  좋을까더스쿠프 10+\\n종부세는  정말  \\' 불편한  세금 \\' 일까더스쿠프 100+\\n2,791.90\\n11.04+0.40%\\n832.64\\n2.73+0.33%\\n금융 증권 부동산'),\n",
       " Document(metadata={'producer': 'Skia/PDF m125', 'creator': 'Chromium', 'creationdate': '2024-07-03T03:24:25+00:00', 'title': '경제 : 네이버 뉴스', 'moddate': '2024-07-03T03:24:25+00:00', 'source': '/Users/jurepi/Work/Study/jo-langchain/data/sample.pdf', 'total_pages': 4, 'page': 0, 'page_label': '1'}, page_content='11.04+0.40%\\n832.64\\n2.73+0.33%\\n금융 증권 부동산\\n언론사별 정치 경제 사회 생활 / 문화 IT/ 과학 세계 랭킹 신문보기 오피니언 TV팩트체크 알고리즘'),\n",
       " Document(metadata={'producer': 'Skia/PDF m125', 'creator': 'Chromium', 'creationdate': '2024-07-03T03:24:25+00:00', 'title': '경제 : 네이버 뉴스', 'moddate': '2024-07-03T03:24:25+00:00', 'source': '/Users/jurepi/Work/Study/jo-langchain/data/sample.pdf', 'total_pages': 4, 'page': 1, 'page_label': '2'}, page_content='윤석열  \" 배당하면  세제혜택 \"...\" 배당소\\n득세 , 저율분리과세 \" [ 오한마 ]\\n13 분전\\n포장  수수료  이어  배민클럽까지  유료\\n화 … 배민 , 수익성만  골몰하나\\n22 분전\\n침체기  겪은  2 분기  코인  시장 … 거래소\\n월별  거래량  2300 조 →510 조원\\n22 분전'),\n",
       " Document(metadata={'producer': 'Skia/PDF m125', 'creator': 'Chromium', 'creationdate': '2024-07-03T03:24:25+00:00', 'title': '경제 : 네이버 뉴스', 'moddate': '2024-07-03T03:24:25+00:00', 'source': '/Users/jurepi/Work/Study/jo-langchain/data/sample.pdf', 'total_pages': 4, 'page': 1, 'page_label': '2'}, page_content='월별  거래량  2300 조 →510 조원\\n22 분전\\nLG 전자는  왜  네덜란드  스마트홈  플랫\\n폼  기업을  사들였나\\n23 분전\\n최저임금  5% 오르면  일자리  14 만개\\n증발\\n24 분전\\n\"하반기부터  LCD 패널  가격  하락 ?\"…\\n삼성 ·LG TV 숨통  트일까\\n26 분전'),\n",
       " Document(metadata={'producer': 'Skia/PDF m125', 'creator': 'Chromium', 'creationdate': '2024-07-03T03:24:25+00:00', 'title': '경제 : 네이버 뉴스', 'moddate': '2024-07-03T03:24:25+00:00', 'source': '/Users/jurepi/Work/Study/jo-langchain/data/sample.pdf', 'total_pages': 4, 'page': 1, 'page_label': '2'}, page_content='삼성 ·LG TV 숨통  트일까\\n26 분전\\n\"매출  없어  카드로  돌려막기 ...\" 가든파\\n이브에  무슨  일이\\n26 분전\\n배민  \\' 무료  배달 \\' 다음  달  유료화 … 쿠팡\\n과  비교해  보니\\n26 분전\\n“파업  목적은  생산  차질 ” 이라는  삼성\\n전자  노조 [ 현장에서 ]\\n26 분전'),\n",
       " Document(metadata={'producer': 'Skia/PDF m125', 'creator': 'Chromium', 'creationdate': '2024-07-03T03:24:25+00:00', 'title': '경제 : 네이버 뉴스', 'moddate': '2024-07-03T03:24:25+00:00', 'source': '/Users/jurepi/Work/Study/jo-langchain/data/sample.pdf', 'total_pages': 4, 'page': 1, 'page_label': '2'}, page_content='전자  노조 [ 현장에서 ]\\n26 분전\\n“최저임금  더  오르면  편의점  문닫거나\\n무인점포로  바꿀  판 ”\\n26 분전\\n\\'사지  말고  직접  만들자 \\'…BYD 가  쏘아\\n올린  배터리  내재화\\n29 분전\\n증권사  CEO 만난  이복현  \" 손쉬운  수\\n익원  찾던  업계  관행  바꿔야 \"\\n32 분전'),\n",
       " Document(metadata={'producer': 'Skia/PDF m125', 'creator': 'Chromium', 'creationdate': '2024-07-03T03:24:25+00:00', 'title': '경제 : 네이버 뉴스', 'moddate': '2024-07-03T03:24:25+00:00', 'source': '/Users/jurepi/Work/Study/jo-langchain/data/sample.pdf', 'total_pages': 4, 'page': 1, 'page_label': '2'}, page_content='익원  찾던  업계  관행  바꿔야 \"\\n32 분전\\n현대차  노조 , 또  교섭  결렬 … 노조  \\' 파업 \\'\\n논의  시작할까\\n32 분전\\n\\'진격의  채권개미 \\' 올  들어  5 조  싹쓸\\n이 … 편법  영업도  기승\\n33 분전\\n한화시스템 , 405 억  초소형  온실가스\\n관측  위성  사업  수주\\n33 분전'),\n",
       " Document(metadata={'producer': 'Skia/PDF m125', 'creator': 'Chromium', 'creationdate': '2024-07-03T03:24:25+00:00', 'title': '경제 : 네이버 뉴스', 'moddate': '2024-07-03T03:24:25+00:00', 'source': '/Users/jurepi/Work/Study/jo-langchain/data/sample.pdf', 'total_pages': 4, 'page': 1, 'page_label': '2'}, page_content='관측  위성  사업  수주\\n33 분전\\n분양  가뭄 … 과천 · 마포에  청약통장  17\\n만개  ‘ 우르르 ʼ\\n33 분전\\n에코프로  공급물량  신청  사이트 ?…\" 사\\n기입니다 \"\\n33 분전\\n영풍 , 고려아연  황산  취급  중단에  법적\\n대응\\n34 분전\\n한국경제 TV\\n 한겨레\\n뉴스 1\\n 한국일보\\n문화일보'),\n",
       " Document(metadata={'producer': 'Skia/PDF m125', 'creator': 'Chromium', 'creationdate': '2024-07-03T03:24:25+00:00', 'title': '경제 : 네이버 뉴스', 'moddate': '2024-07-03T03:24:25+00:00', 'source': '/Users/jurepi/Work/Study/jo-langchain/data/sample.pdf', 'total_pages': 4, 'page': 1, 'page_label': '2'}, page_content='한겨레\\n뉴스 1\\n 한국일보\\n문화일보\\n 데일리안\\n오마이뉴스\\n SBS Biz\\n문화일보\\n 문화일보\\nSBS Biz\\n 더팩트\\nAiRS 추천으로  구성된  뉴스를  제공합니다 .알고리즘  안내\\n뉴시스\\n SBS Biz\\n한국경제 TV\\n 문화일보\\n연합뉴스\\n 머니투데이\\n08\\x0006\\n01\\x0057\\n02\\x0000\\n02\\x0005'),\n",
       " Document(metadata={'producer': 'Skia/PDF m125', 'creator': 'Chromium', 'creationdate': '2024-07-03T03:24:25+00:00', 'title': '경제 : 네이버 뉴스', 'moddate': '2024-07-03T03:24:25+00:00', 'source': '/Users/jurepi/Work/Study/jo-langchain/data/sample.pdf', 'total_pages': 4, 'page': 2, 'page_label': '3'}, page_content='\"여성  친화적  기업 \" 오뚜기  임직원  \\'10\\n명  중  7 명  ⼥ \\' 알고보니\\n36 분전\\n\"2~3 년  안  나가던  집까지  다  팔렸\\n다 \"… 살아난  서울  아파트  매수심리\\n37 분전\\n금감원 , 증권사  CEO 간담회 ... 이복현\\n\"빠르고  과감하게  깨뜨리자 \" 강조\\n38 분전'),\n",
       " Document(metadata={'producer': 'Skia/PDF m125', 'creator': 'Chromium', 'creationdate': '2024-07-03T03:24:25+00:00', 'title': '경제 : 네이버 뉴스', 'moddate': '2024-07-03T03:24:25+00:00', 'source': '/Users/jurepi/Work/Study/jo-langchain/data/sample.pdf', 'total_pages': 4, 'page': 2, 'page_label': '3'}, page_content=\"38 분전\\n유로존  ' 끈적한 ' 서비스  물가 … 테일러\\n스위프트  때문 ?\\n38 분전\\n파월  “ 인플레  진전 ”… 미국금리  9 월  인\\n하  기대감  커져\\n38 분전\\n물가안정세에  ‘ 금리  인하론 ʼ 힘받아 …\\n11 일  금통위  ‘ 깜빡이 ʼ 켜나\\n38 분전\"),\n",
       " Document(metadata={'producer': 'Skia/PDF m125', 'creator': 'Chromium', 'creationdate': '2024-07-03T03:24:25+00:00', 'title': '경제 : 네이버 뉴스', 'moddate': '2024-07-03T03:24:25+00:00', 'source': '/Users/jurepi/Work/Study/jo-langchain/data/sample.pdf', 'total_pages': 4, 'page': 2, 'page_label': '3'}, page_content=\"11 일  금통위  ‘ 깜빡이 ʼ 켜나\\n38 분전\\n값비싼  ‘ 환율  1400 원  방어 ʼ… 외환보유\\n액  석달간  70 억달러 ↓\\n38 분전\\n마세라티 , 한국법인  공식  출범 … 첫  차\\n는  ' 그란투리스모 · 그란카브리오 '\\n39 분전\\n주담대  금리  오른다 … 은행들  가계대출\\n속도  조절\\n40 분전\"),\n",
       " Document(metadata={'producer': 'Skia/PDF m125', 'creator': 'Chromium', 'creationdate': '2024-07-03T03:24:25+00:00', 'title': '경제 : 네이버 뉴스', 'moddate': '2024-07-03T03:24:25+00:00', 'source': '/Users/jurepi/Work/Study/jo-langchain/data/sample.pdf', 'total_pages': 4, 'page': 2, 'page_label': '3'}, page_content='속도  조절\\n40 분전\\n더모아의  재림 ? 토스 , \\'999 원  잔돈  적\\n립 \\' 내놨다\\n41 분전\\n임상시험  실탄  확보한  아이센스 , 미국\\n에서  애보트 ∙ 덱스콤  공략\\n41 분전\\n에코프로 , 포항  기회발전특구  지정\\n에 …\"2 조  추가  투자 , 마더팩토리  구축 \"\\n42 분전'),\n",
       " Document(metadata={'producer': 'Skia/PDF m125', 'creator': 'Chromium', 'creationdate': '2024-07-03T03:24:25+00:00', 'title': '경제 : 네이버 뉴스', 'moddate': '2024-07-03T03:24:25+00:00', 'source': '/Users/jurepi/Work/Study/jo-langchain/data/sample.pdf', 'total_pages': 4, 'page': 2, 'page_label': '3'}, page_content='42 분전\\n\\'로또 \\' 과천에  10 만명  로또  아닌  마포도\\n4만명  \\' 우르르 \\'\\n43 분전\\n에이비엘바이오  \" 내년  말까지  최소  2\\n개  기술이전 …4000 억  자금  확보 \"\\n43 분전\\n‘2800 선  회복 ʼ 넘봤던  코스피 , 장중  상\\n승폭  반납 … 반도체주  약세\\n45 분전'),\n",
       " Document(metadata={'producer': 'Skia/PDF m125', 'creator': 'Chromium', 'creationdate': '2024-07-03T03:24:25+00:00', 'title': '경제 : 네이버 뉴스', 'moddate': '2024-07-03T03:24:25+00:00', 'source': '/Users/jurepi/Work/Study/jo-langchain/data/sample.pdf', 'total_pages': 4, 'page': 2, 'page_label': '3'}, page_content=\"승폭  반납 … 반도체주  약세\\n45 분전\\n물가  내렸지만  높아진  환율에 … 한은  금\\n리인하  가능성은  ' 글쎄 '\\n46 분전\\n코스피 , 2790 선  회복  시도 …S&P· 나스\\n닥  최고치  경신\\n46 분전\\n하나은행  주춤하는  사이  국민 · 신한  달\\n린다\\n46 분전\\n기사  더보기\\n뉴시스\"),\n",
       " Document(metadata={'producer': 'Skia/PDF m125', 'creator': 'Chromium', 'creationdate': '2024-07-03T03:24:25+00:00', 'title': '경제 : 네이버 뉴스', 'moddate': '2024-07-03T03:24:25+00:00', 'source': '/Users/jurepi/Work/Study/jo-langchain/data/sample.pdf', 'total_pages': 4, 'page': 2, 'page_label': '3'}, page_content='린다\\n46 분전\\n기사  더보기\\n뉴시스\\n 아시아경제\\n조세일보\\n 이데일리\\n문화일보\\n 문화일보\\n문화일보\\n 데일리안\\nSBS Biz\\n 아이뉴스 24\\n조선비즈\\n 한경비즈니스\\nSBS Biz\\n 머니투데이\\n조선비즈\\n 조세일보\\nSBS Biz\\n 아이뉴스 24\\n로그인 전체서비스'),\n",
       " Document(metadata={'producer': 'Skia/PDF m125', 'creator': 'Chromium', 'creationdate': '2024-07-03T03:24:25+00:00', 'title': '경제 : 네이버 뉴스', 'moddate': '2024-07-03T03:24:25+00:00', 'source': '/Users/jurepi/Work/Study/jo-langchain/data/sample.pdf', 'total_pages': 4, 'page': 2, 'page_label': '3'}, page_content='SBS Biz\\n 아이뉴스 24\\n로그인 전체서비스\\n서비스안내 오류신고 고객센터\\n기사배열  책임자  : 김수향 청소년  보호  책임자  : 이정규\\n01\\x0055\\n02\\x0009\\n02\\x0003'),\n",
       " Document(metadata={'producer': 'Skia/PDF m125', 'creator': 'Chromium', 'creationdate': '2024-07-03T03:24:25+00:00', 'title': '경제 : 네이버 뉴스', 'moddate': '2024-07-03T03:24:25+00:00', 'source': '/Users/jurepi/Work/Study/jo-langchain/data/sample.pdf', 'total_pages': 4, 'page': 3, 'page_label': '4'}, page_content='이  콘텐츠의  저작권은  저작권자  또는  제공처에  있으며 , 이를  무단  이용하는  경우  저작권법  등에  따라  법적  책임을  질  수  있습니다 .')]"
      ]
     },
     "execution_count": 9,
     "metadata": {},
     "output_type": "execute_result"
    }
   ],
   "source": [
    "# Loader\n",
    "loader = PyPDFLoader(os.path.join(str(data_dir), \"sample.pdf\"))\n",
    "pages = loader.load_and_split()\n",
    "\n",
    "#print(pages)\n",
    "text_splitter = RecursiveCharacterTextSplitter.from_tiktoken_encoder(\n",
    "    chunk_size=300,\n",
    "    chunk_overlap=50,\n",
    ")\n",
    "\n",
    "texts = text_splitter.split_documents(pages)\n",
    "texts "
   ]
  },
  {
   "cell_type": "code",
   "execution_count": null,
   "id": "a33272bd",
   "metadata": {},
   "outputs": [],
   "source": [
    "embeddings_model = OpenAIEmbeddings(\n",
    "    model=\"text-embedding-3-large\",\n",
    ")\n",
    "\n",
    "vectorstore = Chroma.from_documents(texts, embeddings_model)\n",
    "\n",
    "chroma_retriever = vectorstore.as_retriever(\n",
    "    search_type=\"mmr\",\n",
    "    search_kwargs={'k':1, 'fetch_k':4}\n",
    ")\n"
   ]
  },
  {
   "cell_type": "code",
   "execution_count": 11,
   "id": "11024883",
   "metadata": {},
   "outputs": [
    {
     "name": "stdout",
     "output_type": "stream",
     "text": [
      "type of bm25 <class 'langchain_community.retrievers.bm25.BM25Retriever'>\n"
     ]
    }
   ],
   "source": [
    "from langchain.retrievers import BM25Retriever, EnsembleRetriever\n",
    "bm25_retriever = BM25Retriever.from_documents(texts)\n",
    "bm25_retriever.k = 2\n",
    "\n",
    "print(\"type of bm25\", type(bm25_retriever))"
   ]
  },
  {
   "cell_type": "code",
   "execution_count": null,
   "id": "1136dfc6",
   "metadata": {},
   "outputs": [],
   "source": [
    "ensemble_retriever = EnsembleRetriever(\n",
    "    retrievers=[chroma_retriever, bm25_retriever],\n",
    "    weights=[0.2, 0.8]\n",
    ")\n"
   ]
  },
  {
   "cell_type": "code",
   "execution_count": 13,
   "id": "6c7fd05f",
   "metadata": {},
   "outputs": [],
   "source": [
    "query = \"에코프로에 대해서 알려줘\""
   ]
  },
  {
   "cell_type": "code",
   "execution_count": 14,
   "id": "3416446d",
   "metadata": {},
   "outputs": [],
   "source": [
    "docs = ensemble_retriever.invoke(query)"
   ]
  },
  {
   "cell_type": "code",
   "execution_count": 15,
   "id": "94dfc324",
   "metadata": {},
   "outputs": [],
   "source": [
    "def print_docs(docs):\n",
    "    print(\"=\"*100)    \n",
    "    for doc in docs:\n",
    "        print(doc.page_content)\n",
    "        print(\"-\"*100)"
   ]
  },
  {
   "cell_type": "code",
   "execution_count": 16,
   "id": "5547cc00",
   "metadata": {},
   "outputs": [
    {
     "name": "stdout",
     "output_type": "stream",
     "text": [
      "====================================================================================================\n",
      "이  콘텐츠의  저작권은  저작권자  또는  제공처에  있으며 , 이를  무단  이용하는  경우  저작권법  등에  따라  법적  책임을  질  수  있습니다 .\n",
      "----------------------------------------------------------------------------------------------------\n",
      "SBS Biz\n",
      " 아이뉴스 24\n",
      "로그인 전체서비스\n",
      "서비스안내 오류신고 고객센터\n",
      "기사배열  책임자  : 김수향 청소년  보호  책임자  : 이정규\n",
      "01\u000055\n",
      "02\u000009\n",
      "02\u000003\n",
      "----------------------------------------------------------------------------------------------------\n",
      "에코프로  공급물량  신청  사이트 ?…\" 사\n",
      "기입니다 \"\n",
      "\"60 세  이상  고용률  높이면  잠재성장률\n",
      "증가 \"… 노동시장  유연성  전제돼야\n",
      "'오염물질 · 온실가스  무배출 ' 수소차  첫\n",
      "등록  5 년  만에  1000 대  돌파\n",
      "다시  불어온  청약  광풍 … 하루에  17 만명\n",
      "몰려\n",
      "----------------------------------------------------------------------------------------------------\n"
     ]
    }
   ],
   "source": [
    "print_docs(docs)"
   ]
  },
  {
   "cell_type": "code",
   "execution_count": 17,
   "id": "9525208a",
   "metadata": {},
   "outputs": [
    {
     "name": "stdout",
     "output_type": "stream",
     "text": [
      "type of bm25 <class 'langchain_community.retrievers.bm25.BM25Retriever'>\n"
     ]
    }
   ],
   "source": [
    "\n",
    "\n",
    "from langchain.retrievers import BM25Retriever, EnsembleRetriever\n",
    "bm25_retriever = BM25Retriever.from_documents(texts)\n",
    "bm25_retriever.k = 2\n",
    "print(\"type of bm25\", type(bm25_retriever))"
   ]
  },
  {
   "cell_type": "code",
   "execution_count": 18,
   "id": "8650423d",
   "metadata": {},
   "outputs": [
    {
     "data": {
      "text/plain": [
       "[Document(metadata={'producer': 'Skia/PDF m125', 'creator': 'Chromium', 'creationdate': '2024-07-03T03:24:25+00:00', 'title': '경제 : 네이버 뉴스', 'moddate': '2024-07-03T03:24:25+00:00', 'source': '/Users/jurepi/Work/Study/jo-langchain/data/sample.pdf', 'total_pages': 4, 'page': 3, 'page_label': '4'}, page_content='이  콘텐츠의  저작권은  저작권자  또는  제공처에  있으며 , 이를  무단  이용하는  경우  저작권법  등에  따라  법적  책임을  질  수  있습니다 .'),\n",
       " Document(metadata={'producer': 'Skia/PDF m125', 'creator': 'Chromium', 'creationdate': '2024-07-03T03:24:25+00:00', 'title': '경제 : 네이버 뉴스', 'moddate': '2024-07-03T03:24:25+00:00', 'source': '/Users/jurepi/Work/Study/jo-langchain/data/sample.pdf', 'total_pages': 4, 'page': 2, 'page_label': '3'}, page_content='SBS Biz\\n 아이뉴스 24\\n로그인 전체서비스\\n서비스안내 오류신고 고객센터\\n기사배열  책임자  : 김수향 청소년  보호  책임자  : 이정규\\n01\\x0055\\n02\\x0009\\n02\\x0003'),\n",
       " Document(metadata={'moddate': '2024-07-03T03:24:25+00:00', 'creationdate': '2024-07-03T03:24:25+00:00', 'page_label': '1', 'title': '경제 : 네이버 뉴스', 'producer': 'Skia/PDF m125', 'total_pages': 4, 'page': 0, 'creator': 'Chromium', 'source': '/Users/jurepi/Work/Study/jo-langchain/data/sample.pdf'}, page_content='에코프로  공급물량  신청  사이트 ?…\" 사\\n기입니다 \"\\n\"60 세  이상  고용률  높이면  잠재성장률\\n증가 \"… 노동시장  유연성  전제돼야\\n\\'오염물질 · 온실가스  무배출 \\' 수소차  첫\\n등록  5 년  만에  1000 대  돌파\\n다시  불어온  청약  광풍 … 하루에  17 만명\\n몰려')]"
      ]
     },
     "execution_count": 18,
     "metadata": {},
     "output_type": "execute_result"
    }
   ],
   "source": [
    "docs"
   ]
  },
  {
   "cell_type": "code",
   "execution_count": 19,
   "id": "293fe6e0",
   "metadata": {},
   "outputs": [],
   "source": [
    "from langchain.prompts import ChatPromptTemplate\n",
    "from langchain_core.runnables import RunnablePassthrough\n",
    "from langchain_core.output_parsers import StrOutputParser\n",
    "\n",
    "template = \"\"\"다음 맥락을 바탕으로 질문에 답변하세요:\n",
    "\n",
    "{context}\n",
    "\n",
    "질문: {question}\n",
    "\"\"\"\n",
    "\n",
    "prompt = ChatPromptTemplate.from_template(template)\n",
    "\n",
    "llm = ChatOpenAI(model=model_name, temperature=0)\n",
    "\n",
    "def format_docs(docs):\n",
    "    formatted = \"\\n\\n\".join(doc.page_content for doc in docs)\n",
    "    return formatted\n",
    "\n",
    "rag_chain = (\n",
    "    {\n",
    "        \"context\": ensemble_retriever | format_docs,\n",
    "        \"question\": RunnablePassthrough(),\n",
    "    }\n",
    "    | prompt\n",
    "    | llm\n",
    "    | StrOutputParser()\n",
    ")\n",
    "\n"
   ]
  },
  {
   "cell_type": "code",
   "execution_count": 21,
   "id": "90f13106",
   "metadata": {},
   "outputs": [
    {
     "data": {
      "text/plain": [
       "'에코프로는 주로 친환경 및 신재생 에너지 관련 사업을 하는 한국의 기업입니다. 특히 배터리 소재, 친환경 소재 개발 등에 집중하고 있으며, 전기차 배터리용 양극재 등 첨단 소재를 생산하는 것으로 알려져 있습니다. 최근에는 공급물량 신청과 관련된 사기 사례가 언급되기도 했으니, 에코프로와 관련된 거래나 신청 시에는 공식 채널을 통해 신중하게 확인하는 것이 중요합니다.'"
      ]
     },
     "execution_count": 21,
     "metadata": {},
     "output_type": "execute_result"
    }
   ],
   "source": [
    "rag_chain.invoke(query)"
   ]
  }
 ],
 "metadata": {
  "kernelspec": {
   "display_name": ".venv",
   "language": "python",
   "name": "python3"
  },
  "language_info": {
   "codemirror_mode": {
    "name": "ipython",
    "version": 3
   },
   "file_extension": ".py",
   "mimetype": "text/x-python",
   "name": "python",
   "nbconvert_exporter": "python",
   "pygments_lexer": "ipython3",
   "version": "3.12.9"
  }
 },
 "nbformat": 4,
 "nbformat_minor": 5
}
