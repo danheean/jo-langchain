{
 "cells": [
  {
   "cell_type": "code",
   "execution_count": 1,
   "id": "3864d8a3",
   "metadata": {},
   "outputs": [],
   "source": [
    "from langchain.chains.llm import LLMChain\n",
    "from langchain.chains.sequential import SequentialChain\n",
    "from langchain_openai import ChatOpenAI\n",
    "from langchain_core.prompts import PromptTemplate\n",
    "from langchain_core.output_parsers import StrOutputParser\n",
    "\n",
    "import os\n",
    "from dotenv import load_dotenv\n",
    "\n",
    "load_dotenv('../.env')\n",
    "\n",
    "model_name = os.getenv(\"LLM_MODEL\") or \"gpt-4o-mini\"\n",
    "model_provider = os.getenv(\"LLM_MODEL_PROVIDER\") or \"openai\""
   ]
  },
  {
   "cell_type": "code",
   "execution_count": 2,
   "id": "0ea6ba72",
   "metadata": {},
   "outputs": [],
   "source": [
    "llm = ChatOpenAI(model=model_name, temperature=0.7)"
   ]
  },
  {
   "cell_type": "code",
   "execution_count": 4,
   "id": "dbaea1ad",
   "metadata": {},
   "outputs": [],
   "source": [
    "from langchain_core.prompts import PromptTemplate\n",
    "\n",
    "prompt1 = PromptTemplate.from_template(\n",
    "    \"다음 식당 리뷰를 한 문장으로 요약하세요.\\n\\n{review}\"\n",
    ")\n",
    "\n",
    "chain1 = LLMChain(llm=llm, prompt=prompt1, output_key=\"summary\")\n",
    "\n",
    "prompt2 = PromptTemplate.from_template(\n",
    "    \"다음 식당 리뷰를 읽고 0점부터 10점 사이에서 긍정/부정 점수를 매기세요. 숫자로만 대답하세요. {review}\"\n",
    ")\n",
    "\n",
    "chain2 = LLMChain(llm=llm, prompt=prompt2, output_key=\"sentiment_score\")\n",
    "\n",
    "prompt3 = PromptTemplate.from_template(\n",
    "    \"다음 식당 리뷰 요약에 대해 공손한 답변을 작성하세요.\\n리뷰 요약:{summary}\"\n",
    ")\n",
    "\n",
    "chain3 = LLMChain(llm=llm, prompt=prompt3, output_key=\"reply\")"
   ]
  },
  {
   "cell_type": "code",
   "execution_count": 5,
   "id": "b8da7ffc",
   "metadata": {},
   "outputs": [],
   "source": [
    "# 체인 설정\n",
    "all_chain = SequentialChain(\n",
    "    chains=[chain1, chain2, chain3],\n",
    "    input_variables=[\"review\"],\n",
    "    output_variables=[\"summary\", \"sentiment_score\", \"reply\"],\n",
    "    verbose=True\n",
    ")\n"
   ]
  },
  {
   "cell_type": "code",
   "execution_count": 6,
   "id": "a97e67ea",
   "metadata": {},
   "outputs": [],
   "source": [
    "# 식당 리뷰 입력\n",
    "review = \"\"\"\n",
    "이 식당은 맛도 좋고 분위기도 좋았습니다. 가격 대비 만족도가 높아요.\n",
    "하지만, 서비스 속도가 너무 느려서 조금 실망스러웠습니다.\n",
    "전반적으로는 다시 방문할 의사가 있습니다.\n",
    "\"\"\""
   ]
  },
  {
   "cell_type": "code",
   "execution_count": 7,
   "id": "c04cba12",
   "metadata": {},
   "outputs": [
    {
     "name": "stdout",
     "output_type": "stream",
     "text": [
      "\n",
      "\n",
      "\u001b[1m> Entering new SequentialChain chain...\u001b[0m\n",
      "\n",
      "\u001b[1m> Finished chain.\u001b[0m\n",
      "summary 결과 \n",
      "맛과 분위기는 좋았지만 서비스 속도가 느려 아쉬웠지만, 전반적으로 재방문 의사가 있는 식당입니다.\n",
      "\n",
      "sentiment_score 결과 \n",
      "7\n",
      "\n",
      "reply 결과 \n",
      "고객님께서 저희 식당의 맛과 분위기를 만족해 주시고, 재방문 의사까지 보여주셔서 진심으로 감사드립니다. 다만, 서비스 속도에 있어 불편을 드린 점 정말 죄송하게 생각합니다. 앞으로 더욱 신속하고 친절한 서비스를 제공할 수 있도록 노력하겠습니다. 소중한 의견에 다시 한 번 감사드리며, 다음 방문 때는 더욱 만족하실 수 있도록 최선을 다하겠습니다.\n",
      "\n"
     ]
    }
   ],
   "source": [
    "# 체인 실행 및 결과 출력\n",
    "try:\n",
    "    result = all_chain.invoke(input={\"review\": review})\n",
    "    print(f'summary 결과 \\n{result[\"summary\"]}\\n')\n",
    "    print(f'sentiment_score 결과 \\n{result[\"sentiment_score\"]}\\n')\n",
    "    print(f'reply 결과 \\n{result[\"reply\"]}\\n')\n",
    "except Exception as e:\n",
    "    print(f\"오류 발생: {e}\")"
   ]
  }
 ],
 "metadata": {
  "kernelspec": {
   "display_name": ".venv",
   "language": "python",
   "name": "python3"
  },
  "language_info": {
   "codemirror_mode": {
    "name": "ipython",
    "version": 3
   },
   "file_extension": ".py",
   "mimetype": "text/x-python",
   "name": "python",
   "nbconvert_exporter": "python",
   "pygments_lexer": "ipython3",
   "version": "3.12.9"
  }
 },
 "nbformat": 4,
 "nbformat_minor": 5
}
