{
 "cells": [
  {
   "cell_type": "code",
   "execution_count": 5,
   "id": "10a41c45",
   "metadata": {},
   "outputs": [],
   "source": [
    "from langchain_openai import ChatOpenAI\n",
    "from langchain_core.prompts import PromptTemplate\n",
    "from langchain_core.output_parsers import StrOutputParser\n",
    "\n",
    "import os\n",
    "from dotenv import load_dotenv\n",
    "\n",
    "load_dotenv('../.env')\n",
    "\n",
    "# ChatOpenAI with default values\n",
    "model_name = os.getenv(\"LLM_MODEL\") or \"gpt-4o-mini\"\n",
    "model_provider = os.getenv(\"LLM_MODEL_PROVIDER\") or \"openai\""
   ]
  },
  {
   "cell_type": "code",
   "execution_count": 11,
   "id": "e819f08a",
   "metadata": {},
   "outputs": [
    {
     "data": {
      "text/plain": [
       "'gpt-4.1-nano'"
      ]
     },
     "execution_count": 11,
     "metadata": {},
     "output_type": "execute_result"
    }
   ],
   "source": [
    "model_name "
   ]
  },
  {
   "cell_type": "code",
   "execution_count": 6,
   "id": "31d75108",
   "metadata": {},
   "outputs": [],
   "source": [
    "prompt_template = \"\"\"\n",
    "이 음식 리뷰 `{review}`에 대해 `{rating1}`점부터 `{rating2}`점까지의 평가를 해주세요.\n",
    "\"\"\"\n",
    "\n",
    "prompt = PromptTemplate(\n",
    "    template=prompt_template,\n",
    "    input_variables=[\"review\", \"rating1\", \"rating2\"]\n",
    ")"
   ]
  },
  {
   "cell_type": "code",
   "execution_count": 7,
   "id": "4e0baab3",
   "metadata": {},
   "outputs": [],
   "source": [
    "llm = ChatOpenAI(model=model_name, temperature=0.7)"
   ]
  },
  {
   "cell_type": "code",
   "execution_count": 8,
   "id": "86342942",
   "metadata": {},
   "outputs": [],
   "source": [
    "chain = prompt | llm | StrOutputParser()"
   ]
  },
  {
   "cell_type": "code",
   "execution_count": 10,
   "id": "58f1e547",
   "metadata": {},
   "outputs": [
    {
     "name": "stdout",
     "output_type": "stream",
     "text": [
      "평가 결과: 이 리뷰는 맛은 있었지만 배달 포장에 아쉬움이 있었다는 내용을 담고 있습니다. 따라서 맛은 좋았지만 포장 상태가 만족스럽지 않다는 점을 감안하여 평가하겠습니다.\n",
      "\n",
      "평가: 3점\n"
     ]
    }
   ],
   "source": [
    "try:\n",
    "    response = chain.invoke({\n",
    "        \"review\": \"맛은 있었지만 배달 포장이 부족하여 아쉬웠습니다.\",\n",
    "        \"rating1\": 1,\n",
    "        \"rating2\": 5\n",
    "    })\n",
    "    print(f\"평가 결과: {response}\")\n",
    "except Exception as e:\n",
    "    print(f\"평가 결과: {e}\")\n"
   ]
  }
 ],
 "metadata": {
  "kernelspec": {
   "display_name": ".venv",
   "language": "python",
   "name": "python3"
  },
  "language_info": {
   "codemirror_mode": {
    "name": "ipython",
    "version": 3
   },
   "file_extension": ".py",
   "mimetype": "text/x-python",
   "name": "python",
   "nbconvert_exporter": "python",
   "pygments_lexer": "ipython3",
   "version": "3.12.9"
  }
 },
 "nbformat": 4,
 "nbformat_minor": 5
}
