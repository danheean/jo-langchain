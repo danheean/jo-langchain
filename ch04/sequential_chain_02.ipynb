{
 "cells": [
  {
   "cell_type": "code",
   "execution_count": 2,
   "id": "806ac048",
   "metadata": {},
   "outputs": [],
   "source": [
    "import os\n",
    "from dotenv import load_dotenv\n",
    "\n",
    "load_dotenv('../.env')\n",
    "\n",
    "model_name = os.getenv(\"LLM_MODEL\") or \"gpt-4o-mini\"\n",
    "model_provider = os.getenv(\"LLM_MODEL_PROVIDER\") or \"openai\"\n",
    "\n",
    "from langchain_core.prompts import PromptTemplate\n",
    "from langchain_core.output_parsers import StrOutputParser\n",
    "from langchain_core.runnables import RunnablePassthrough\n",
    "from langchain_openai import ChatOpenAI"
   ]
  },
  {
   "cell_type": "code",
   "execution_count": 3,
   "id": "4292d20e",
   "metadata": {},
   "outputs": [],
   "source": [
    "llm = ChatOpenAI(model=model_name, temperature=0.7)"
   ]
  },
  {
   "cell_type": "code",
   "execution_count": null,
   "id": "b61cb8ed",
   "metadata": {},
   "outputs": [],
   "source": [
    "from langchain_core.prompts import PromptTemplate\n",
    "\n",
    "prompt1 = PromptTemplate(\n",
    "    input_variables=[\"review\"],\n",
    "    template=\"다음 숙박 시설 리뷰를 한글로 번역하세요.\\n\\n{review}\"\n",
    ")\n",
    "\n",
    "prompt2 = PromptTemplate.from_template(\n",
    "    \"다음 숙박 시설 리뷰를 한 문장으로 요약하세요.\\n\\n{translation}\"\n",
    ")\n",
    "\n",
    "prompt3 = PromptTemplate.from_template(\n",
    "    \"다음 숙박 시설 리뷰를 읽고 0점부터 10점 사이에서 긍정/부정 점수를 매기세요. 숫자로만 대답하세요.\\n\\n{summary}\"\n",
    ")\n",
    "\n",
    "prompt4 = PromptTemplate.from_template(\n",
    "    \"다음 숙박 시설 리뷰에 사용된 언어가 무엇인가요? 언어 이름만 대답하세요.\\n\\n{review}\"\n",
    ")\n",
    "\n",
    "prompt5 = PromptTemplate.from_template(\n",
    "    \"다음 숙박 시설 리뷰 요약에 대해 공손한 답변을 작성하세요.\\n답변 언어:{language}\\n리뷰 요약:{summary}\"\n",
    ")\n",
    "\n",
    "prompt6 = PromptTemplate.from_template(\n",
    "    \"다음 생성된 답변을 한국어로 번역해주세요.\\n 리뷰 번역:{reply}\"\n",
    ")\n",
    "\n",
    "translate_chain_component = prompt1 | llm | StrOutputParser()\n",
    "summarize_chain_component = prompt2 | llm | StrOutputParser()\n",
    "sentiment_score_chain_component = prompt3 | llm | StrOutputParser()\n",
    "language_chain_component = prompt4 | llm | StrOutputParser()\n",
    "reply1_chain_component = prompt5 | llm | StrOutputParser()\n",
    "reply2_chain_component = prompt6 | llm | StrOutputParser()"
   ]
  },
  {
   "cell_type": "code",
   "execution_count": 10,
   "id": "21f9bb25",
   "metadata": {},
   "outputs": [],
   "source": [
    "combined_lecl_chain = (\n",
    "    RunnablePassthrough.assign(\n",
    "        translation=lambda x: translate_chain_component.invoke({\"review\": x[\"review\"]}),\n",
    "    )\n",
    "    | RunnablePassthrough.assign(\n",
    "        summary=lambda x: summarize_chain_component.invoke({\"translation\": x[\"translation\"]}),\n",
    "        sentiment_score=lambda x: sentiment_score_chain_component.invoke({\"translation\": x[\"translation\"]}),\n",
    "        language=lambda x: language_chain_component.invoke({\"review\": x[\"review\"]}),\n",
    "    )\n",
    "    | RunnablePassthrough.assign(\n",
    "        reply1=lambda x: reply1_chain_component.invoke({\"summary\": x[\"summary\"], \"language\": x[\"language\"]}),\n",
    "    )\n",
    "    | RunnablePassthrough.assign(\n",
    "        reply2=lambda x: reply2_chain_component.invoke({\"reply\": x[\"reply1\"]}),\n",
    "    )\n",
    ")   "
   ]
  },
  {
   "cell_type": "code",
   "execution_count": 7,
   "id": "4f5e56c7",
   "metadata": {},
   "outputs": [],
   "source": [
    "review_text = \"\"\"\n",
    "The hotel was clean and the staff were very helpful.\n",
    "The location was convenient, close to my attractions.\n",
    "However, the room was a bit small and the breakfast options were limited.\n",
    "Overall, a decent stay but there is room for improvement.\n",
    "\"\"\"\n"
   ]
  },
  {
   "cell_type": "code",
   "execution_count": 11,
   "id": "9f9d9283",
   "metadata": {},
   "outputs": [
    {
     "name": "stdout",
     "output_type": "stream",
     "text": [
      "translation 결과 \n",
      "호텔은 깨끗했고 직원들도 매우 친절했습니다. 위치도 편리했으며 주요 관광지와 가까웠어요. 다만, 방이 조금 좁았고 아침 식사 선택지가 제한적이었습니다. 전반적으로 만족스러운 숙박이었지만 개선할 여지가 있습니다.\n",
      "\n",
      "summary 결과 \n",
      "깨끗하고 친절한 직원과 편리한 위치가 좋았지만 방이 좁고 아침 식사 선택이 제한된 점이 아쉬웠던 숙박 경험입니다.\n",
      "\n",
      "sentiment_score 결과 \n",
      "8\n",
      "\n",
      "language 결과 \n",
      "English\n",
      "\n",
      "reply1 결과 \n",
      "Thank you very much for sharing your feedback. We truly appreciate your kind words about our cleanliness, friendly staff, and convenient location. We also value your suggestions regarding room size and breakfast options, and we will take them into consideration to improve our services. We hope to have the opportunity to welcome you again and provide an even better experience.\n",
      "\n",
      "reply2 결과 \n",
      "소중한 의견을 공유해주셔서 진심으로 감사드립니다. 저희의 청결도, 친절한 직원, 편리한 위치에 대해 좋은 말씀을 해주셔서 매우 감사드립니다. 또한, 객실 크기와 조식 옵션에 관한 소중한 제안들도 감사히 여기며, 더 나은 서비스 제공을 위해 검토하겠습니다. 다시 뵙게 될 기회가 있어 더 나은 경험을 선사할 수 있기를 기대합니다.\n",
      "\n"
     ]
    }
   ],
   "source": [
    "# 체인 실행 및 결과 출력\n",
    "try:\n",
    "    result = combined_lecl_chain.invoke({\"review\": review_text})\n",
    "    \n",
    "    print(f'translation 결과 \\n{result.get(\"translation\", \"N/A\")}\\n')\n",
    "    print(f'summary 결과 \\n{result.get(\"summary\", \"N/A\")}\\n')\n",
    "    print(f'sentiment_score 결과 \\n{result.get(\"sentiment_score\", \"N/A\")}\\n')\n",
    "    print(f'language 결과 \\n{result.get(\"language\", \"N/A\")}\\n')\n",
    "    print(f'reply1 결과 \\n{result.get(\"reply1\", \"N/A\")}\\n')\n",
    "    print(f'reply2 결과 \\n{result.get(\"reply2\", \"N/A\")}\\n')\n",
    "except Exception as e:\n",
    "    print(f\"오류 발생: {e}\")"
   ]
  }
 ],
 "metadata": {
  "kernelspec": {
   "display_name": ".venv",
   "language": "python",
   "name": "python3"
  },
  "language_info": {
   "codemirror_mode": {
    "name": "ipython",
    "version": 3
   },
   "file_extension": ".py",
   "mimetype": "text/x-python",
   "name": "python",
   "nbconvert_exporter": "python",
   "pygments_lexer": "ipython3",
   "version": "3.12.9"
  }
 },
 "nbformat": 4,
 "nbformat_minor": 5
}
