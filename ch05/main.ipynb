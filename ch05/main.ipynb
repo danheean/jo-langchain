{
 "cells": [
  {
   "cell_type": "code",
   "execution_count": 7,
   "id": "b1b53d01",
   "metadata": {},
   "outputs": [],
   "source": [
    "from langchain.chat_models import init_chat_model\n",
    "from langchain_core.prompts import ChatPromptTemplate\n",
    "from langchain_core.output_parsers import StrOutputParser\n",
    "import os\n",
    "from dotenv import load_dotenv, find_dotenv\n",
    "from pathlib import Path\n",
    "\n",
    "load_dotenv(find_dotenv())\n",
    "\n",
    "model_name = os.getenv(\"LLM_MODEL\") or \"gpt-4o-mini\"\n",
    "model_provider = os.getenv(\"LLM_MODEL_PROVIDER\") or \"openai\"\n"
   ]
  },
  {
   "cell_type": "code",
   "execution_count": 8,
   "id": "2e3975fa",
   "metadata": {},
   "outputs": [],
   "source": [
    "\n",
    "llm = init_chat_model(model_name, model_provider=model_provider)"
   ]
  },
  {
   "cell_type": "code",
   "execution_count": 9,
   "id": "fab61c0c",
   "metadata": {},
   "outputs": [],
   "source": [
    "prompt = ChatPromptTemplate.from_messages([\n",
    "    (\"system\", \"You are a helpful assistant.\"),\n",
    "    (\"user\", \"{input}\")\n",
    "])\n",
    "\n",
    "output_parser = StrOutputParser()\n",
    "\n",
    "chain = prompt | llm | output_parser\n"
   ]
  },
  {
   "cell_type": "code",
   "execution_count": 10,
   "id": "7d9d7548",
   "metadata": {},
   "outputs": [
    {
     "name": "stdout",
     "output_type": "stream",
     "text": [
      "코딩의 노래\n",
      "\n",
      "검은 화면에 새겨진 꿈,\n",
      "빛나는 커서가 춤추며 속삭이네.\n",
      "무한한 가능성의 언어 속에,\n",
      "내 손끝이 길을 열어가네.\n",
      "\n",
      "줄바꿈, 들여쓰기, 조화로운 선율,\n",
      "오류가 오면 다시 새로 쓰는 그림자.\n",
      "알고리즘의 춤, 논리의 오케스트라,\n",
      "세상에 없는 세상을 만들어가네.\n",
      "\n",
      "버그와 맞서 싸우며 배우는 것,\n",
      "작은 실수도 성장의 씨앗이 되어.\n",
      "끊임없이 질문하며 달려가는 길,\n",
      "코드의 바다에서 꿈을 찾네.\n",
      "\n",
      "가장 작은 명령어 하나에 담긴 힘,\n",
      "세상을 바꿀 무한의 가능성.\n",
      "이야기를 짜고, 세상을 연결하는,\n",
      "코딩은 내게 자유와 미래를 선물하네.\n"
     ]
    }
   ],
   "source": [
    "content = \"코딩\"\n",
    "result = chain.invoke({\"input\": content + \"에 대한 시를 써줘\"})\n",
    "print(result)"
   ]
  }
 ],
 "metadata": {
  "kernelspec": {
   "display_name": ".venv",
   "language": "python",
   "name": "python3"
  },
  "language_info": {
   "codemirror_mode": {
    "name": "ipython",
    "version": 3
   },
   "file_extension": ".py",
   "mimetype": "text/x-python",
   "name": "python",
   "nbconvert_exporter": "python",
   "pygments_lexer": "ipython3",
   "version": "3.12.9"
  }
 },
 "nbformat": 4,
 "nbformat_minor": 5
}
