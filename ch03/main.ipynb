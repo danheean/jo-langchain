{
 "cells": [
  {
   "cell_type": "code",
   "execution_count": null,
   "id": "cb738da4",
   "metadata": {},
   "outputs": [
    {
     "name": "stdout",
     "output_type": "stream",
     "text": [
      "⚠️ LANGSMITH_API_KEY not found - tracking disabled\n"
     ]
    }
   ],
   "source": [
    "from langchain.chat_models import init_chat_model\n",
    "from langchain_core.prompts import ChatPromptTemplate\n",
    "from langchain_core.output_parsers import StrOutputParser\n",
    "import os\n",
    "from dotenv import load_dotenv\n",
    "\n",
    "load_dotenv('../.env')\n",
    "\n",
    "# LangSmith API 키 확인\n",
    "langsmith_tracking = os.getenv(\"LANGSMITH_TRACKING\")\n",
    "langsmith_api_key = os.getenv(\"LANGSMITH_API_KEY\")\n",
    "\n",
    "if langsmith_tracking == \"true\" and langsmith_api_key:\n",
    "    os.environ[\"LANGSMITH_API_KEY\"] = langsmith_api_key\n",
    "    print(\"✅ LangSmith tracking enabled(\" + os.getenv(\"LANGCHAIN_PROJECT\") + \")\")\n",
    "else:\n",
    "    print(\"⚠️ LANGSMITH_API_KEY not found - tracking disabled\")\n",
    "\n",
    "# ChatOpenAI with default values\n",
    "model_name = os.getenv(\"LLM_MODEL\") or \"gpt-3.5-turbo\"\n",
    "model_provider = os.getenv(\"LLM_MODEL_PROVIDER\") or \"openai\"\n",
    "\n",
    "llm = init_chat_model(model_name, model_provider=model_provider)\n",
    "\n"
   ]
  },
  {
   "cell_type": "code",
   "execution_count": 6,
   "id": "41546ee5",
   "metadata": {},
   "outputs": [],
   "source": [
    "# 프롬프트 템플릿 생성\n",
    "prompt = ChatPromptTemplate.from_messages([\n",
    "    (\"system\", \"You are a helpful assistant. respond in Korean.\"),\n",
    "    (\"user\", \"{input}\")\n",
    "])\n",
    "\n",
    "# LLM 체인 구성\n",
    "chain = prompt | llm | StrOutputParser()\n"
   ]
  },
  {
   "cell_type": "code",
   "execution_count": 7,
   "id": "4891a350",
   "metadata": {},
   "outputs": [
    {
     "name": "stdout",
     "output_type": "stream",
     "text": [
      "안녕하세요! 저는 잘 지내고 있습니다. 당신은 어떻게 지내세요?\n"
     ]
    }
   ],
   "source": [
    "# 프롬프트 템플릿 사용\n",
    "result = chain.invoke({\"input\": \"Hello, how are you?\"})\n",
    "\n",
    "# 프롬프트 템플릿 출력\n",
    "print(result)"
   ]
  }
 ],
 "metadata": {
  "kernelspec": {
   "display_name": ".venv",
   "language": "python",
   "name": "python3"
  },
  "language_info": {
   "codemirror_mode": {
    "name": "ipython",
    "version": 3
   },
   "file_extension": ".py",
   "mimetype": "text/x-python",
   "name": "python",
   "nbconvert_exporter": "python",
   "pygments_lexer": "ipython3",
   "version": "3.12.9"
  }
 },
 "nbformat": 4,
 "nbformat_minor": 5
}
