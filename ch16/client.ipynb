{
 "cells": [
  {
   "cell_type": "code",
   "execution_count": 1,
   "id": "10cb4d07",
   "metadata": {},
   "outputs": [
    {
     "name": "stdout",
     "output_type": "stream",
     "text": [
      "{'output': {'content': '어느 작은 마을에 사는 소녀, 하늘은 매일 아침 해가 뜨는 모습을 보며 행복을 느꼈다. 그녀의 소원은 소중한 사람들과 함께 그 행복을 나누는 것이었다. 하지만 하늘은 항상 혼자였다. 친구도, 가족도 없이 외롭게 자란 그녀는 날마다 자연의 아름다움 속에서 작은 위안을 찾았다.\\n\\n어느 날, 하늘은 마을 근처의 숲에서 한 노인을 만났다. 노인은 하늘에게 말했다. \"행복은 찾는 것이 아니라 만드는 거란다.\" 하늘은 그 말이 마음에 깊이 새겨졌다. 그녀는 노인이 주는 조언을 통해 작은 것들에 감사하기로 결심했다. 매일 아침 해가 뜨는 순간, 그녀는 소중한 순간들을 기억하고, 자신이 가진 것에 대해 감사하는 시간을 가졌다.\\n\\n시간이 흐르자, 하늘은 자연 속에서 만난 이웃들과 소통하기 시작했다. 그녀는 작은 정원을 가꾸며 마을 사람들과 나누는 즐거움을 배우게 되었다. 시간이 지나면서 하늘의 정원은 마을의 중심이 되었고, 사람들은 그녀의 따뜻한 미소와 정성으로 가득한 정원에서 행복을 느꼈다.\\n\\n하늘은 깨달았다. 진정한 행복은 나누는 것에서 온다는 사실을. 소중한 사람들과 함께하는 순간들이 쌓여, 그녀의 마음은 어느새 행복으로 가득 차 있었다.', 'additional_kwargs': {'refusal': None}, 'response_metadata': {'token_usage': {'completion_tokens': 335, 'prompt_tokens': 30, 'total_tokens': 365, 'completion_tokens_details': {'accepted_prediction_tokens': 0, 'audio_tokens': 0, 'reasoning_tokens': 0, 'rejected_prediction_tokens': 0}, 'prompt_tokens_details': {'audio_tokens': 0, 'cached_tokens': 0}}, 'model_name': 'gpt-4o-mini-2024-07-18', 'system_fingerprint': 'fp_560af6e559', 'id': 'chatcmpl-C9QYlzvcqZvAiBSTYMFzhKbQUrtHf', 'service_tier': 'default', 'finish_reason': 'stop', 'logprobs': None}, 'type': 'ai', 'name': None, 'id': 'run--d394e6af-d511-437d-b191-821efd531974-0', 'example': False, 'tool_calls': [], 'invalid_tool_calls': [], 'usage_metadata': {'input_tokens': 30, 'output_tokens': 335, 'total_tokens': 365, 'input_token_details': {'audio': 0, 'cache_read': 0}, 'output_token_details': {'audio': 0, 'reasoning': 0}}}, 'metadata': {'run_id': '675e7e5f-6204-4604-a643-c62e7656ef18', 'feedback_tokens': []}}\n",
      "\n",
      "\n",
      "{'output': {'content': '행복은 작은 손길,  \\n따스한 햇살 아래,  \\n웃음이 피어나는 순간,  \\n소중한 기억의 조각들.  \\n\\n서로의 눈빛이,  \\n마음의 언어가 되어,  \\n일상 속의 기적을 발견해.  \\n행복은 가까이에,  \\n그냥 존재하는 것.  ', 'additional_kwargs': {'refusal': None}, 'response_metadata': {'token_usage': {'completion_tokens': 78, 'prompt_tokens': 29, 'total_tokens': 107, 'completion_tokens_details': {'accepted_prediction_tokens': 0, 'audio_tokens': 0, 'reasoning_tokens': 0, 'rejected_prediction_tokens': 0}, 'prompt_tokens_details': {'audio_tokens': 0, 'cached_tokens': 0}}, 'model_name': 'gpt-4o-mini-2024-07-18', 'system_fingerprint': 'fp_560af6e559', 'id': 'chatcmpl-C9QYqh2C1eh2ASSqfesPVfMuNeCDb', 'service_tier': 'default', 'finish_reason': 'stop', 'logprobs': None}, 'type': 'ai', 'name': None, 'id': 'run--e6233fdc-4082-473a-9fed-57053c48b2f3-0', 'example': False, 'tool_calls': [], 'invalid_tool_calls': [], 'usage_metadata': {'input_tokens': 29, 'output_tokens': 78, 'total_tokens': 107, 'input_token_details': {'audio': 0, 'cache_read': 0}, 'output_token_details': {'audio': 0, 'reasoning': 0}}}, 'metadata': {'run_id': '6e8df113-6be7-4368-8a93-38b4e9cc8fbe', 'feedback_tokens': []}}\n",
      "\n",
      "\n",
      "{'output': '## 행복의 조각들\\n\\n낡은 벤치에 앉아 노인은 눈을 감았다. 따스한 햇살이 뺨을 간지럽히고, 코끝에는 갓 구운 빵 냄새가 스며들었다. 젊은 시절, 그는 성공과 명예를 좇으며 행복을 정의하려 애썼다. 화려한 파티, 쟁쟁한 이력, 칭찬과 박수… 그것이 행복이라고 믿었다. \\n\\n하지만 그의 삶은 텅 빈 껍데기 같았다. \\n\\n어느 날, 그는 우연히 작은 빵집을 열었다. 빵 냄새에 이끌려 찾아오는 사람들의 미소, 따뜻한 격려, 그리고 빵 한 조각에 담긴 정성. 그 속에서 그는 진정한 행복의 조각들을 발견했다. \\n\\n\"오늘 빵, 정말 맛있네요!\"\\n\\n한 소녀의 맑은 목소리가 그의 귓가에 울렸다. 노인은 희미하게 웃으며 소녀에게 빵을 하나 더 건넸다. \\n\\n행복은 거창한 것이 아니었다. 작은 기쁨, 따뜻한 마음, 그리고 함께하는 소중한 순간들. \\n\\n노인은 눈을 뜨고 빵집을 바라봤다. 낡은 벤치에 앉아 빵 냄새를 맡는 것, 사람들의 미소를 보는 것. 그것이 바로 그의 행복이었다. \\n\\n그는 깨달았다. 행복은 좇는 것이 아니라, 삶 속에서 발견하는 것이라는 것을. 그리고 지금 이 순간, 그는 세상에서 가장 행복한 사람이었다.', 'metadata': {'run_id': 'a9b0c34c-5b17-42f2-bd30-748f34832c56', 'feedback_tokens': []}}\n",
      "\n",
      "\n",
      "{'output': '## 행복\\n\\n작은 꽃 한 송이,\\n햇살 머금은 미소.\\n바람결에 실려\\n온 세상 가득 퍼져라.\\n\\n소소한 일상 속,\\n따스한 온기가 스며들어\\n마음 한켠을 춤추게 하네.\\n이것이 바로 행복.', 'metadata': {'run_id': 'e3894706-308c-41d9-8923-17c52416f7f0', 'feedback_tokens': []}}\n"
     ]
    }
   ],
   "source": [
    "import requests\n",
    "\n",
    "response1 = requests.post(\n",
    "    \"http://localhost:8000/openai/novel/invoke\", \n",
    "    json={'input': {'topic': '행복에 대해서'}}\n",
    ")\n",
    "\n",
    "response2 = requests.post(\n",
    "    \"http://localhost:8000/openai/poem/invoke\", \n",
    "    json={'input': {'topic': '행복에 대해서'}}\n",
    ")\n",
    "\n",
    "response3 = requests.post(\n",
    "    \"http://localhost:8000/ollama/novel/invoke\", \n",
    "    json={'input': {'topic': '행복에 대해서'}}\n",
    ")\n",
    "\n",
    "response4 = requests.post(\n",
    "    \"http://localhost:8000/ollama/poem/invoke\", \n",
    "    json={'input': {'topic': '행복에 대해서'}}\n",
    ")\n",
    "\n",
    "print(response1.json())\n",
    "print(\"\\n\")\n",
    "print(response2.json())\n",
    "print(\"\\n\")\n",
    "print(response3.json())\n",
    "print(\"\\n\")\n",
    "print(response4.json())"
   ]
  },
  {
   "cell_type": "code",
   "execution_count": 4,
   "id": "1171ee75",
   "metadata": {},
   "outputs": [
    {
     "data": {
      "text/plain": [
       "'어느 작은 마을에 사는 소녀, 하늘은 매일 아침 해가 뜨는 모습을 보며 행복을 느꼈다. 그녀의 소원은 소중한 사람들과 함께 그 행복을 나누는 것이었다. 하지만 하늘은 항상 혼자였다. 친구도, 가족도 없이 외롭게 자란 그녀는 날마다 자연의 아름다움 속에서 작은 위안을 찾았다.\\n\\n어느 날, 하늘은 마을 근처의 숲에서 한 노인을 만났다. 노인은 하늘에게 말했다. \"행복은 찾는 것이 아니라 만드는 거란다.\" 하늘은 그 말이 마음에 깊이 새겨졌다. 그녀는 노인이 주는 조언을 통해 작은 것들에 감사하기로 결심했다. 매일 아침 해가 뜨는 순간, 그녀는 소중한 순간들을 기억하고, 자신이 가진 것에 대해 감사하는 시간을 가졌다.\\n\\n시간이 흐르자, 하늘은 자연 속에서 만난 이웃들과 소통하기 시작했다. 그녀는 작은 정원을 가꾸며 마을 사람들과 나누는 즐거움을 배우게 되었다. 시간이 지나면서 하늘의 정원은 마을의 중심이 되었고, 사람들은 그녀의 따뜻한 미소와 정성으로 가득한 정원에서 행복을 느꼈다.\\n\\n하늘은 깨달았다. 진정한 행복은 나누는 것에서 온다는 사실을. 소중한 사람들과 함께하는 순간들이 쌓여, 그녀의 마음은 어느새 행복으로 가득 차 있었다.'"
      ]
     },
     "execution_count": 4,
     "metadata": {},
     "output_type": "execute_result"
    }
   ],
   "source": [
    "response1.json().get('output', {}).get('content', '답변이 없습니다.')"
   ]
  }
 ],
 "metadata": {
  "kernelspec": {
   "display_name": ".venv",
   "language": "python",
   "name": "python3"
  },
  "language_info": {
   "codemirror_mode": {
    "name": "ipython",
    "version": 3
   },
   "file_extension": ".py",
   "mimetype": "text/x-python",
   "name": "python",
   "nbconvert_exporter": "python",
   "pygments_lexer": "ipython3",
   "version": "3.12.9"
  }
 },
 "nbformat": 4,
 "nbformat_minor": 5
}
