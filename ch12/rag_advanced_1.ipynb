{
 "cells": [
  {
   "cell_type": "code",
   "execution_count": 4,
   "id": "7493486a",
   "metadata": {},
   "outputs": [],
   "source": [
    "import os\n",
    "from dotenv import load_dotenv, find_dotenv\n",
    "\n",
    "load_dotenv(find_dotenv())\n",
    "\n",
    "from langchain_openai import OpenAIEmbeddings, OpenAI\n",
    "from langchain_core.prompts import PromptTemplate\n",
    "\n",
    "model_name = os.getenv(\"LLM_MODEL\") or \"gpt-4o-mini\"\n",
    "model_provider = os.getenv(\"LLM_PROVIDER\") or \"openai\"\n",
    "\n",
    "import bs4\n",
    "from langchain import hub\n",
    "from langchain.text_splitter import RecursiveCharacterTextSplitter\n",
    "from langchain_community.document_loaders import WebBaseLoader\n",
    "from langchain_community.vectorstores import Chroma\n",
    "from langchain_core.output_parsers import StrOutputParser\n",
    "from langchain_core.runnables import RunnablePassthrough\n",
    "from langchain_openai import OpenAIEmbeddings, ChatOpenAI\n",
    "\n"
   ]
  },
  {
   "cell_type": "code",
   "execution_count": null,
   "id": "690fabbc",
   "metadata": {},
   "outputs": [],
   "source": [
    "#### INDEXING ####\n",
    "loader = WebBaseLoader(\n",
    "    web_paths=[\"https://news.naver.com/section/101\"],\n",
    "    bs_kwargs=dict(\n",
    "        parse_only=bs4.SoupStrainer(\n",
    "            class_=(\"sa_text\", \"sa_item SECTION_HEADLINE\")\n",
    "        )\n",
    "    )\n",
    ")\n",
    "\n",
    "docs = loader.load()"
   ]
  },
  {
   "cell_type": "code",
   "execution_count": 6,
   "id": "37c6821c",
   "metadata": {},
   "outputs": [],
   "source": [
    "# Split\n",
    "text_splitter = RecursiveCharacterTextSplitter.from_tiktoken_encoder(\n",
    "    encoding_name=\"cl100k_base\",\n",
    "    chunk_size=300,\n",
    "    chunk_overlap=50\n",
    ")\n",
    "splits = text_splitter.split_documents(docs)"
   ]
  },
  {
   "cell_type": "code",
   "execution_count": 7,
   "id": "7f333948",
   "metadata": {},
   "outputs": [],
   "source": [
    "vectorstore = Chroma.from_documents(\n",
    "    documents=splits,\n",
    "    embedding=OpenAIEmbeddings(\n",
    "        model=\"text-embedding-3-large\",\n",
    "        \n",
    "    )\n",
    ")"
   ]
  },
  {
   "cell_type": "code",
   "execution_count": 24,
   "id": "26c3fd0c",
   "metadata": {},
   "outputs": [],
   "source": [
    "import re\n",
    "def clean_whitespace(text):\n",
    "    \"\"\"연속된 white space를 하나로 만드는 함수\"\"\"\n",
    "    # 연속된 공백을 하나의 공백으로 줄임\n",
    "    text = re.sub(r'( )+', ' ', text)\n",
    "    # 연속된 개행을 하나의 개행으로 줄임\n",
    "    text = re.sub(r'\\n+', '\\n', text)\n",
    "    # 문자열 양쪽 끝의 공백을 제거\n",
    "    text = text.strip()\n",
    "\n",
    "    return text"
   ]
  },
  {
   "cell_type": "code",
   "execution_count": 25,
   "id": "43d65f6a",
   "metadata": {},
   "outputs": [
    {
     "name": "stdout",
     "output_type": "stream",
     "text": [
      "최태원 “성과급 5천% 는다고 행복 아냐”…SK하이닉스 성과급 갈등 언급\n",
      "최태원 SK그룹 회장이 SK하이닉스에서 격화되고 있는 성과급 갈등과 관련해 “(성과급이) 3천%, 5천%까지 늘어난다고 행복해지는 것은 아니다”라고 말했습니다. 최 회장은 어제(20일) 직원들과의 대화 ‘슬기로운 S\n",
      "KBS\n",
      "73\n",
      "개의 관련뉴스 더보기\n",
      "전남도,2조7천억‘국가 수소특화단지’도전\n",
      "영광 대마산단에 국내 최대규모 조성위한 산업부 공모 신청 핵심전략은 무탄소 전력 활용 경제적·안정적 청정수소 생산 전력 계통 포화문제 완화로 재생에너지 활성화 기여 차별화 안내도 [헤럴드경제(전남)=김경민기자]전남도\n",
      "헤럴드경제\n",
      "27\n",
      "개의 관련뉴스 더보기\n",
      "\"보따리부터 내놓으란 석화업계…뼈깎는 자구노력 없인 금융지원 없다\"\n",
      "금융당국이 ‘자기 뼈를 깎는 자구노력’이라는 석유·화학업종 자금지원 대원칙을 천명하고 구조개편에 필요한 자금공급 방안을 준비한다. 기업이 어려워지면 은행권에 손부터 내미는 관행에 칼을 빼드는 한편, 은행권에는 ‘생산\n",
      "이데일리\n",
      "65\n",
      "개의 관련뉴스 더보기\n",
      "트럼프가 '콕' 찍었다…\"9만전자 간다\" KB증권 분석 보니\n",
      "도널드 트럼프 미국 행정부가 삼성전자 지분 확보를 검토하는 것으로 알려지면서, 삼성전자에 대한 미국 정부와의 결속 강화 가능성이 점쳐지며 증권가 목표주가가 '9만원'을 유지했다. 21일 KB증권은 “삼성전자의 하반기\n",
      "서울경제\n",
      "22\n",
      "개의 관련뉴스 더보기\n",
      "롯데하이마트, 여름특가세일…“최대 80만원 캐시백”\n",
      "롯데하이마트가 계속되는 무더위에 오는 8월 말까지 여름 마지막 특가 세일을 진행한다. 롯데하이마트는 이달 말까지 여름 특가 세일을 한다고 22일 밝혔다. 에어컨의 경우 캐시백과 증정품 행사 등을 진행한다. LG전자\n",
      "헤럴드경제\n",
      "9\n",
      "개의 관련뉴스 더보기\n",
      "3대 혁신경영 잇는 정의선 \"고객 만족이 핵심, 우린 항상 진화한다\"\n",
      "미래를 만드는 주체는 고객이고, 그들의 목소리에 진정으로 귀 기울이고 응답하는 것이 우리의 역할.\" 정의선 현대차그룹 회장은 조부 고(故) 정주영 창업회장의 이같은 신념을 언급하면서 \"지금도 변함없는 나의 믿음\"이\n",
      "파이낸셜뉴스\n",
      "44\n",
      "개의 관련뉴스 더보기\n",
      "파월 잭슨홀 연설 앞두고 지수 선물 일제 상승, 다우 0.14%↑\n",
      "미국증시가 고용 및 소비 충격으로 일제히 하락했으나 제롬 파월 연준 의장의 잭슨홀 연설을 앞두고 지수 선물은 소폭이지만 일제히 상승하고 있다. 21일 오후 7시 현재(현지 시각) 뉴욕증시에서 다우 선물은 0.14%,\n",
      "뉴스1\n",
      "10\n",
      "개의 관련뉴스 더보기\n",
      "신현송 “스테이블코인 범죄 비트코인 추월…자본유출 지름길”\n",
      "세계경제학자대회서 발표 스테이블코인 리스크·규제 강조 달러 외 자국통화 스테이블코인에 “자본유출 통로·외환규제 무력화” 중앙은행 중심 미래통화 바람직 “한은 예금토큰 실험 계속돼야” 신현송 국제결제은행(BIS) 경제\n",
      "매일경제\n",
      "51\n",
      "개의 관련뉴스 더보기\n",
      "월마트 '관세 충격'에 美증시 동반 하락…잭슨홀 앞두고 금리동결 확률 ↑ [데일리국제금융시장]\n",
      "뉴욕 증시의 3대 주가지수가 미국 최대 대형마트 업체 월마트가 도널드 트럼프 미국 대통령의 관세 정책 충격에 악화될 실적을 공개하면서 일제히 하락했다. 시장에서는 9월 연방공개시장위원회(FOMC)가 금리를 동결할 수\n",
      "서울경제\n",
      "23\n",
      "개의 관련뉴스 더보기\n",
      "오픈AI와 가격 경쟁…구글, 美정부에 제미나이 0.47달러에 제공\n",
      "구글은 인공지능(AI) 모델 제미나이와 클라우드 서비스 제품군을 미국 연방 정부 기관에 각각 연 0.47달러의 가격으로 제공한다고 현지시간 21일 밝혔습니다. 이에 따라 연방 정부 기관들은 저렴한 가격으로 내년까지\n",
      "SBS Biz\n",
      "12\n",
      "개의 관련뉴스 더보기\n",
      "“美투자 확대하는 반도체 기업은 지분 요구 안할 것”…삼성은?\n",
      "도널드 트럼프 미국 대통령(사진=AFP) 트럼프 행정부가 ‘미국 반도체 및 과학법(Chips and Science Act·이하 반도체법)’에 따른 보조금을 받는 일부 기업에 대해 지분 확보를 검토하고 있지만, 미국 \n",
      "이데일리\n",
      "7분전\n",
      "AI는 닷컴 버블과 다르다…단순한 조정일 뿐 붕괴 아닌 3가지 이유\n",
      "미국 증시의 랠리를 이끌어온 AI(인공지능) 수혜주들이 최근 일주일간 큰 폭으로 하락하며 2000년과 같은 닷컴 버블 붕괴가 시작된 것이 아닌가 하는 불안이 올라오고 있다. 기술주 위주의 나스닥지수는 지난 15일부터\n",
      "머니투데이\n",
      "8분전\n",
      "李대통령 방미 앞두고 다시 뛰는 조·방·원\n",
      "최근 부진했던 국내 증시 대표 주도주 '조방원'(조선·방위산업·원자력발전) 관련주가 전날 반등에 이어 이날도 일제히 강세다. 22일 오전 9시37분 기준 조방원 관련 상장지수펀드(ETF)들이 국내 상장된 ETF들 중\n",
      "한국경제\n",
      "11분전\n",
      "\"방산주 살아나나\"…현대로템, 5%대 강세[핫스탁]\n",
      "현대로템이 장 초반 5%대 강세다. 22일 한국거래소에 따르면 이날 오전 9시39분 현재 현대로템은 전 거래일 대비 5.12%(8900원) 오른 18만2700원에 거래되고 있다. 최근 큰 낙폭을 기록했던 방산주에 저\n",
      "뉴시스\n",
      "12분전\n",
      "전력기기·전선株 급등…HD현대일렉 8%↑[이런국장 저런주식]\n",
      "22일 증시에서 전력기기와 전선 관련 종목들의 상승세가 두드러지고 있다. 한국거래소에 따르면 이날 오전 9시 32분 기준 HD현대일렉트릭(267260) 주가는 전일 대비 8.29% 오른 49만 6500원에 거래되고 \n",
      "서울경제\n",
      "13분전\n",
      "회장단 방미 효과 기대감?…관련주 장 초반 강세\n",
      "오는 25일(현지시각) 개최 예정인 한미정상회담 경제사절단에 동행하는 기업 주가가 장초반 강세를 보인다. 22일 오전 9시41분 기준 거래소에서 삼성전자는 전 거래일 대비 900원(1.27%) 오른 7만1500원에 \n",
      "머니투데이\n",
      "14분전\n",
      "\"가을 꽃게 할인 전쟁\"…쿠팡도 100g당 760원으로 참전\n",
      "서해안 꽃게 금어기가 풀리면서 대형마트 3사와 쿠팡이 꽃게 판매 경쟁에 돌입했습니다. 쿠팡은 로켓프레시를 통해 오늘(22일)부터 다음 달 1일까지 '가을 꽃게 기획전'을 진행한다고 밝혔습니다. 오늘부터 24일까지 사\n",
      "연합뉴스TV\n",
      "15분전\n",
      "미래에셋, 글로벌 성과 ‘가속’…실적·지분가치 모두 ‘상승 곡선’ [투자360]\n",
      "그룹 총 운용자산 1000조 육박…해외만 264조 해외법인 성과·글로벌 ETF 성장세↑ 박현주 회장 지분가치 4.6조원 추산 박현주 미래에셋그룹 글로벌전략가(GSO) 회장 [미래에셋그룹 제공] [헤럴드경제=정윤희 기\n",
      "헤럴드경제\n",
      "17분전\n",
      "무상증자 권리락 효과에…텔콘RF제약 '상한가'\n",
      "무상증자 권리락 효과에 텔콘RF제약이 상한가까지 치솟았다. 22일 오전 9시40분 현재 텔콘RF제약은 기준가(1917원) 대비 573원(29.89%) 오른 2490원에 거래되고 있다. 텔콘RF제약은 상한가에 거래를 \n",
      "한국경제\n",
      "18분전\n",
      "\"한미 정상회담 기대\"…조선·원전株 '줄상승'[핫종목]\n",
      "이재명 대통령과 도널드 트럼프 미국 대통령의 첫 한미 정상회담을 앞두고 조선주와 원전주가 동반 상승하고 있다. 22일 오전 9시 32분 한화오션(042660)은 전일 대비 4500원(4.04%) 오른 11만 5900\n",
      "뉴스1\n",
      "19분전\n",
      "[아침밥] 흥국증권 \"AJ네트웍스, 추가 상승 여력 충분\"\n",
      "머니S 증권전문기자들이 매일 아침 쏟아지는 증권사 리포트 중에서 가장 알찬 리포트의 핵심을 요약해 제공하는 '아침밥'을 통해 든든하게 성공투자를 시작하세요. 흥국증권이 AJ네트웍스에 대해 2분기 실적은 부진했지만 중\n",
      "머니S\n",
      "20분전\n",
      "'구글 파트너사' 애드포러스, 코스닥 상장…\"실적 성장 가속화\"\n",
      "구글 파트너사인 애드포러스(397810)가 22일 코스닥 시장에 상장했다. 상장기념식에는 이은현 대표이사를 비롯해 애드포러스 임직원들과 주관을 맡은 신영투자증권 주요 관계자들이 참석했다. 지난 2014년 설립된 애드\n",
      "이데일리\n",
      "20분전\n",
      "‘관세’에 월마트 주가도 쇼크…트럼프 때문에 우는 美유통주 [투자360]\n",
      "월마트 “매주 관세발 비용 상승 이어져” 월마트 품목 3분의 1 멕시코·중국·인도 수입 타겟 울고 TJX·홈디포 웃고 도널드 트럼프 미국 대통령 관세 부과를 발표한 다음 날인 지난 4월 3일 미국 뉴저지주 시코커스에\n",
      "헤럴드경제\n",
      "20분전\n",
      "“증권사 앱 너무 믿었다간 낭패”…10명중 3명 ‘이것’ 경험, 키움 ‘최악’\n",
      "한국소비자원 주식 투자자 2100명 조사 증권사 MTS 불만은 늘고 만족도 하락 ‘빨리 팔아야 하는데, 먹통이라니…’ 주식거래를 하다가 갑자기 앱이 먹통되면 혼란스러울 수 밖에 없는데, 최근 증권사 주식거래 앱 사용\n",
      "매일경제\n",
      "21분전\n",
      "30대 맞벌이 부부, 월 131만원으로 미래 설계하기 [재테크 Lab]\n",
      "상담자 중에선 투자상품으로 얼마만큼의 수익을 내느냐에만 관심 갖는 이들이 적지 않다. 하지만 간과해선 안 되는 게 있다. 바로 절세다. 같은 투자 성과를 내도 세금 공제가 얼마만큼 되느냐에 따라 최종 수익이 확연하게\n",
      "더스쿠프\n",
      "22분전\n",
      "씨어스테크놀로지, 韓 의료 AI 최초 흑자전환...기막힌 전략 통했다\n",
      "이 기사는 2025년08월21일 07시40분에 팜이데일리 프리미엄 콘텐츠로 선공개 되었습니다. 씨어스테크놀로지(458870)가 국내 의료 AI 기업 중 최초로 흑자전환에 성공했다. 매출도 폭발적으로 증가했다. AI \n",
      "이데일리\n",
      "23분전\n",
      "‘타이밍 싸움’ 주식거래서 10명 중 3명 앱오류 경험…키움, 만족도 꼴찌\n",
      "국내 증권사의 주식거래 앱을 사용하는 투자자 10명 중 3명이 시스템 오류나 접속 장애 등을 경험한 것으로 나타났다. 또 앱을 이용해 주식거래를 하는 투자자들이 느는 추세와는 반대로 앱 서비스 품질은 더 악화한 것으\n",
      "부산일보\n",
      "24분전\n",
      "\"인수회사 5년간 팔지마라\" 악소리 나는 PEF 규제법안 쏟아져\n",
      "이 기사는 08월 21일 15:19 마켓인사이트에 게재된 기사입니다. 국회에서 사모펀드(PEF)를 규제하는 법안을 잇따라 발의하고 있다. 최근 한달 동안 4건에 달한다. PEF의 차입한도 규제나 보고·공시 강화 등을\n",
      "한국경제\n",
      "24분전\n",
      "씨어스테크놀로지, 52주 신고가…호실적 전망에 7%대 강세\n",
      "씨어스테크놀로지가 22일 장 초반 52주 신고가를 기록한 데 이어 8%대 강세다. 올해 2분기 호실적을 내면서 우호적인 리포트가 연이어 발간된 영향으로 풀이된다. 이날 오전 9시38분 한국거래소(KRX) 코스닥 증시\n",
      "머니투데이\n",
      "24분전\n",
      "10% 넘게 떨어지더니 웬일?…\"한미 정상 만난다\" 조선·원전주 강세\n",
      "이재명 대통령과 도널드 트럼프 미국 대통령의 첫 정상회담을 앞두고 조선과 원전 관련 종목이 22일 상승 중이다. 상반기 주도주 역할을 해왔던 이들 종목에 저가 매수세가 유입되고 있는 것으로 보인다. 한국거래소에 따르\n",
      "머니투데이\n",
      "25분전\n",
      "美법무부, 연준에 '주담대 불법 의혹' 쿡 이사 해임 촉구\n",
      "도널드 트럼프 미국 대통령이 불법 주택담보대출 의혹을 받고 있는 리사 쿡 연방준비제도(Fed·연준) 이사의 사퇴를 요구하고 있는 가운데, 미 법무부가 연준에 쿡 이사의 해임을 촉구하는 서한을 보내 압박에 가세했다. \n",
      "이데일리\n",
      "25분전\n",
      "우리기술, 두산에너빌리티와 MMIS DCS 독점 공급 “글로벌 AI 데이터센터 원전 시장 공략”\n",
      "우리기술은 두산에너빌리티와 원자력발전소에 적용되는 MMIS(원전계측제어시스템)용 DCS(분산제어시스템)의 독점 공급에 대한 양해각서(MOU)를 체결했다고 22일 밝혔다. 이번 MOU를 통해 우리기술은 자체 개발한 M\n",
      "파이낸셜뉴스\n",
      "26분전\n",
      "[증시타임] 석유화학산업 재도약 시동…정부 “자구책이 우선”\n",
      "■ 머니쇼 '증시타임' - 상상인증권 백영찬 센터장 ◇ 간밤 뉴욕증시 마감 상황부터 짚어보고 본격적인 이야기 시작해 보겠습니다. 어떻게 보셨어요? - 뉴욕증시 3대 지수 일제히 하락…\"파월 연설 D-1\" - 필라델피\n",
      "SBS Biz\n",
      "26분전\n",
      "\"입찰보증금 1000억원 쉽지않네\"…성수1지구, 3파전 관측 속 이변 가능성\n",
      "사업비 2조원에 달하는 성수1지구의 시공권을 따내기 위한 수주전의 막이 올랐다. 경기 침체 등으로 건설사의 정비사업 선별 수주가 대세인 상황에서, 한강벨트 재개발 사업지를 수주하기 위해 현대건설과 GS건설, HDC현\n",
      "아시아경제\n",
      "26분전\n",
      "코스피, 잭슨홀 회의 경계감에도 장 초반 1%대 상승세(종합)\n",
      "오늘밤 파월 입에 주목하는 시장…경계감에도 저가 매수세 유입 삼성전자·SK하이닉스 동반 상승…코스닥도 오르는 중 코스피가 22일 장 초반 1%대 상승세를 보이고 있다. 이날 오전 9시 21분 현재 코스피는 전장보다 \n",
      "연합뉴스\n",
      "27분전\n",
      "\"그제 주울걸\"…HD현대일렉, 낙폭 전부 회복[핫종목]\n",
      "미국 관세 우려에 급락했던 HD현대일렉트릭이 급반등했다. 도널드 트럼프 미국 대통령이 인공지능(AI) 산업 경쟁력 유지를 위해 전력 용량을 늘릴 필요가 있다고 언급한 데 따른 것으로 보인다. 22일 오전 9시 25분\n",
      "뉴스1\n",
      "29분전\n",
      "“추석 전 곳간 채우자” SK이노·현대건설·한화 등 6.7兆 조달\n",
      "이 기사는 08월 21일 14:28 마켓인사이트에 게재된 기사입니다. 채권시장으로 ‘뭉칫돈’이 흘러들고 있다. 주요 기업들은 여름 휴가철이 끝나고 오는 10월 추석 연휴 전까지 회사채를 발행해 현금을 넉넉히 채우겠다\n",
      "한국경제\n",
      "29분전\n",
      "쿠팡도 '햇꽃게 대전'에 참전…100g당 760원 이마트와 같아\n",
      "활꽃게 판매가, 홈플러스 1천90원·롯데마트 992원 22일 서해안 꽃게 금어기가 풀리면서 대형마트 3사와 쿠팡이 '햇꽃게' 판매 경쟁에 나섰다. 오는 24일까지 사흘간 쿠팡의 활꽃게(산꽃게) 판매가는 카드할인 적용\n",
      "연합뉴스\n",
      "29분전\n",
      "키움證 \"엠플러스, 하반기 이후 본격적인 각형수주 성장 수혜…현저한 저평가 국면\"\n",
      "키움증권은 22일 이차전지 조립 공정 전문업체인 엠플러스에 대해 최근 각형 배터리 수요가 확대되는데 따른 수혜주로 부각될 것이라고 진단했다. 다만 투자의견과 목표주가는 제시하지 않았다. 오현진 연구원은 \"동사는 이차\n",
      "파이낸셜뉴스\n",
      "32분전\n",
      "잭슨홀 디데이…원/달러 환율 3주 만에 1,400원 터치\n",
      "원/달러 환율은 22일 미국의 금리 방향성을 주시하며 3주 만에 1,400원을 넘어섰다. 이날 서울 외환시장에서 미국 달러화 대비 원화 환율은 오전 9시 11분 현재 전 거래일 주간 거래 종가(오후 3시 30분 기준\n",
      "연합뉴스\n",
      "32분전\n",
      "미리보는 메지온 '유데나필' 2차 임상 3상 결과는? 합격,합격, 또 합격\n",
      "이 기사는 2025년08월21일 07시30분에 팜이데일리 프리미엄 콘텐츠로 선공개 되었습니다. “미리보는 퓨얼-2(FUEL-2) 결과다”. 서울 강남구 삼성로에 위치한 메지온 본사에서 노성일 전무가 지난해 1월 이데\n",
      "이데일리\n",
      "33분전\n",
      "PE사업 진출한 솔리더스인베스트, 경영진 교체하나 [넘버스]\n",
      "이 기사는 2025년 08월 20일 14시 16분 넘버스에 발행된 기사입니다. 최근 솔리더스인베스트먼트가 주력 사업을 벤처캐피탈(VC)에서 사모펀드(PE)로 변경하려는 움직임을 보이면서 김정현 대표의 거취에도 관심이\n",
      "블로터\n",
      "33분전\n",
      "與 김현정, '스테이블코인 시장 제도적 기틀 마련' 위한 법률안 발의\n",
      "최근 달러 스테이블코인 확산으로 통화 주권이 위협받고 있어 이를 상쇄하기 위한 원화 스테이블코인 도입 필요성이 제기되고 있는 가운데 여권에서 스테이블코인 시장의 건전한 성장과 이용자 보호를 위한 제도적 기틀을 마련하\n",
      "조세일보\n",
      "34분전\n",
      "운용사-투자자 충돌 테일러메이드 인수전, 골프社 놓고 힘겨루기 [주간 ‘딜’리버리]\n",
      "F&F ‘양날의 칼’…출자자이자 원매자로 국내 PEF·SI 관계 재정립 시험대 글로벌 골프 브랜드 테일러메이드의 매각 절차가 본격화됐다. 해외 대형 사모펀드가 테일러메이드에 관심을 보였으나, 최대 변수는 우선매수권을\n",
      "헤럴드경제\n",
      "35분전\n",
      "4조 대어 DIG에어가스, 에어리퀴드 우협 선정...변수는 '석화 구조조정'\n",
      "이 기사는 08월 21일 14:35 마켓인사이트에 게재된 기사입니다. 글로벌 산업용 가스 제조사인 에어리퀴드가 4조대 대어인 DIG에어가스 인수전의 우선협상대상자에 올랐다. 유일한 후보였던 에어리퀴드가 막바지까지 거\n",
      "한국경제\n",
      "36분전\n",
      "환율, 3주 만에 1400원 돌파…파월 연설 앞두고 달러 강세\n",
      "원·달러 환율이 22일 1400원대를 재차 돌파했다. 야간장에서 글로벌 달러 강세에 한 때 1400원을 뚫으면서 예견됐던 일이다. 제롬 파월 연준 의장. (사진= AFP) 서울외국환중개에 따르면 이날 오전 9시 15\n",
      "이데일리\n",
      "37분전\n",
      "meta: {'source': 'https://news.naver.com/section/101'}\n",
      "----------------------------------------------------------------------------------------------------\n"
     ]
    }
   ],
   "source": [
    "#print(docs)\n",
    "\n",
    "for doc in docs:\n",
    "    print(clean_whitespace(doc.page_content))\n",
    "    print('meta:', doc.metadata)\n",
    "    print(\"-\"*100)\n"
   ]
  },
  {
   "cell_type": "code",
   "execution_count": 10,
   "id": "8ea73fe6",
   "metadata": {},
   "outputs": [],
   "source": [
    "retriever = vectorstore.as_retriever(\n",
    "    search_type=\"mmr\",\n",
    "    search_kwargs=dict(\n",
    "        k=1,\n",
    "        fetch_k=4\n",
    "    )\n",
    ")\n",
    "\n"
   ]
  },
  {
   "cell_type": "code",
   "execution_count": 13,
   "id": "49802e81",
   "metadata": {},
   "outputs": [
    {
     "name": "stdout",
     "output_type": "stream",
     "text": [
      "input_variables=['context', 'question'] input_types={} partial_variables={} metadata={'lc_hub_owner': 'sungwoo', 'lc_hub_repo': 'ragbasic', 'lc_hub_commit_hash': 'a53edda0c0e62edb01c0912f1db21b9083b3638197bd512e3d8c10e308b8dddf'} messages=[HumanMessagePromptTemplate(prompt=PromptTemplate(input_variables=['context', 'question'], input_types={}, partial_variables={}, template='질문-답변 작업을 돕는 비서입니다. 질문에 답하기 위해 다음과 같은 검색 결과를 사용하세요. 답을 모르는 경우에는 모른다고 명시하세요. 답변은 세 문장 이내로 간결하게 유지해 주세요.\\n질문: {question}\\n검색 결과: {context}\\n답변:'), additional_kwargs={})]\n"
     ]
    }
   ],
   "source": [
    "prompt = hub.pull(\"sungwoo/ragbasic\")\n",
    "print(prompt)"
   ]
  },
  {
   "cell_type": "code",
   "execution_count": null,
   "id": "23a415b0",
   "metadata": {},
   "outputs": [],
   "source": [
    "import re\n",
    "\n",
    "llm = ChatOpenAI(model=model_name, temperature=0)\n",
    "\n",
    "def format_docs(docs):\n",
    "    formatted = \"\\n\\n\".join(doc.page_content for doc in docs)\n",
    "    return formatted\n",
    "    "
   ]
  },
  {
   "cell_type": "code",
   "execution_count": 15,
   "id": "6a991bcd",
   "metadata": {},
   "outputs": [
    {
     "name": "stdout",
     "output_type": "stream",
     "text": [
      "오늘 중요한 뉴스는 이재명 대통령과 도널드 트럼프 미국 대통령의 첫 한미 정상회담을 앞두고 조선주와 원전주가 동반 상승했다는 소식입니다. 특히 한화오션 주가가 크게 올랐습니다.\n"
     ]
    }
   ],
   "source": [
    "# Chain\n",
    "rag_chain = (\n",
    "    {\"context\": retriever | format_docs, \"question\": RunnablePassthrough()}\n",
    "    | prompt\n",
    "    | llm\n",
    "    | StrOutputParser()\n",
    ")\n",
    "\n",
    "print(rag_chain.invoke(\"오늘 뉴스 중 중요한 것은 무엇인가?\"))"
   ]
  },
  {
   "cell_type": "code",
   "execution_count": 26,
   "id": "0db05e8a",
   "metadata": {},
   "outputs": [
    {
     "name": "stdout",
     "output_type": "stream",
     "text": [
      "국채는 정부가 재정을 조달하기 위해 발행하는 채권입니다. 최근 기업들이 추석 전 자금 확보를 위해 회사채를 대규모로 발행하고 있습니다. 국채는 안정적인 투자 수단으로 여겨집니다.\n"
     ]
    }
   ],
   "source": [
    "docs = rag_chain.invoke(\"국채 관련한 정보를 알려줘\")\n",
    "print(docs)"
   ]
  },
  {
   "cell_type": "code",
   "execution_count": 28,
   "id": "db6bcec7",
   "metadata": {},
   "outputs": [
    {
     "name": "stdout",
     "output_type": "stream",
     "text": [
      "['집값은 앞으로 어떻게 변할까요?  ', '향후 부동산 가격 동향은 어떨지 궁금합니다.  ', '주택 시장의 가격 추세는 앞으로 어떤 방향일까요?  ', '집값 상승 또는 하락 전망에 대해 알고 싶습니다.  ', '다가오는 시기에 부동산 가격이 어떻게 움직일지 예측할 수 있을까요?']\n"
     ]
    }
   ],
   "source": [
    "from langchain.prompts import ChatPromptTemplate\n",
    "\n",
    "template = \"\"\"\n",
    "당신은 AI 언어 모델 조수입니다. 당신의 임무는 주어진 사용자 질문에 대해 벡터 데이터베이스에서 관련 문서를 검색할 수 있도록 다섯 가지 다른 버전을 생성하는 것이빈다.\n",
    "사용자 질문에 대한 여러 관점을 생성함으로써, 거리 기반 유사성 검색의 한계를 극복하는 데 도움을 주는 것이 목표입니다.\n",
    "각 질문은 새로운 줄로 구분하여 제공하세요. 원본 질문: {question}\n",
    "\"\"\"\n",
    "\n",
    "prompt_perspectives = ChatPromptTemplate.from_template(template)\n",
    "\n",
    "from langchain_core.output_parsers import StrOutputParser\n",
    "from langchain_openai import ChatOpenAI\n",
    "\n",
    "generate_queries = (\n",
    "    prompt_perspectives\n",
    "    | ChatOpenAI(model=model_name, temperature=0)\n",
    "    | StrOutputParser()\n",
    "    |(lambda x: x.split(\"\\n\"))\n",
    ")\n",
    "\n",
    "generated_query = generate_queries.invoke(\"집값의 향방?\")\n",
    "print(generated_query)\n",
    "\n"
   ]
  },
  {
   "cell_type": "code",
   "execution_count": 29,
   "id": "6c5e4373",
   "metadata": {},
   "outputs": [],
   "source": [
    "from langchain.load import dumps, loads\n",
    "\n",
    "def get_unique_union(documents: list[list]):\n",
    "    \"\"\"\n",
    "    고유한 문서들의 합집합을 생성하는 함수입니다.\n",
    "    \"\"\"\n",
    "\n",
    "    flattened_docs = [dumps(doc) for sublist in documents for doc in sublist]\n",
    "\n",
    "    unique_docs = list(set(flattened_docs))\n",
    "\n",
    "    return [loads(doc) for doc in unique_docs]\n"
   ]
  },
  {
   "cell_type": "code",
   "execution_count": 30,
   "id": "b8a6eb09",
   "metadata": {},
   "outputs": [],
   "source": [
    "question = \"집값의 향방?\""
   ]
  },
  {
   "cell_type": "code",
   "execution_count": 31,
   "id": "5bf8c9ca",
   "metadata": {},
   "outputs": [],
   "source": [
    "retrievel_chain = generate_queries | retriever.map() | get_unique_union"
   ]
  },
  {
   "cell_type": "code",
   "execution_count": 32,
   "id": "fa830d99",
   "metadata": {},
   "outputs": [],
   "source": [
    "docs = retrievel_chain.invoke(question)"
   ]
  },
  {
   "cell_type": "code",
   "execution_count": 35,
   "id": "df4420aa",
   "metadata": {},
   "outputs": [
    {
     "name": "stdout",
     "output_type": "stream",
     "text": [
      "2\n",
      "[Document(metadata={'source': 'https://news.naver.com/section/101'}, page_content='\"입찰보증금 1000억원 쉽지않네\"…성수1지구, 3파전 관측 속 이변 가능성\\n\\n사업비 2조원에 달하는 성수1지구의 시공권을 따내기 위한 수주전의 막이 올랐다. 경기 침체 등으로 건설사의 정비사업 선별 수주가 대세인 상황에서, 한강벨트 재개발 사업지를 수주하기 위해 현대건설과 GS건설, HDC현\\n\\n\\n아시아경제\\n\\n26분전\\n\\n\\n\\n\\n\\n\\n\\n\\n코스피, 잭슨홀 회의 경계감에도 장 초반 1%대 상승세(종합)'), Document(metadata={'source': 'https://news.naver.com/section/101'}, page_content='한국소비자원 주식 투자자 2100명 조사 증권사 MTS 불만은 늘고 만족도 하락 ‘빨리 팔아야 하는데, 먹통이라니…’ 주식거래를 하다가 갑자기 앱이 먹통되면 혼란스러울 수 밖에 없는데, 최근 증권사 주식거래 앱 사용\\n\\n\\n매일경제\\n\\n21분전\\n\\n\\n\\n\\n\\n\\n\\n\\n30대 맞벌이 부부, 월 131만원으로 미래 설계하기 [재테크 Lab]\\n\\n상담자 중에선 투자상품으로 얼마만큼의 수익을 내느냐에만 관심 갖는 이들이 적지 않다. 하지만 간과해선 안 되는 게 있다. 바로 절세다. 같은 투자 성과를 내도 세금 공제가 얼마만큼 되느냐에 따라 최종 수익이 확연하게')]\n"
     ]
    }
   ],
   "source": [
    "print(len(docs))\n",
    "print(docs)"
   ]
  },
  {
   "cell_type": "code",
   "execution_count": 36,
   "id": "9bb399b9",
   "metadata": {},
   "outputs": [],
   "source": [
    "from langchain_openai import ChatOpenAI\n",
    "from langchain_core.runnables import RunnablePassthrough\n",
    "\n",
    "# RAG\n",
    "template = \"\"\"다음 맥락을 바탕으로 질문에 답변하세요:\n",
    "{context}\n",
    "\n",
    "질문: {question}\n",
    "\"\"\"\n",
    "\n",
    "prompt = ChatPromptTemplate.from_template(template)\n",
    "\n",
    "llm = ChatOpenAI(model=model_name, temperature=0)\n",
    "\n",
    "final_rag_chain = (\n",
    "    {\n",
    "        \"context\": retrievel_chain,\n",
    "        \"question\": RunnablePassthrough()\n",
    "    }\n",
    "    | prompt\n",
    "    | llm\n",
    "    | StrOutputParser()\n",
    ")\n",
    "\n"
   ]
  },
  {
   "cell_type": "code",
   "execution_count": 37,
   "id": "9a600157",
   "metadata": {},
   "outputs": [
    {
     "data": {
      "text/plain": [
       "'제공된 뉴스 기사들에서는 주로 주식시장 동향, 방위산업 관련주, 건설사 수주 경쟁, 주식거래 앱 불만, 재테크 및 절세 관련 내용이 다뤄지고 있습니다. 다만, 집값의 향방에 대해 직접적으로 언급한 내용은 없습니다.\\n\\n다만, 건설사들의 재개발 사업 수주 경쟁(예: 성수1지구 시공권 경쟁)과 관련된 기사가 있는데, 이는 특정 지역 재개발 사업이 활발히 진행되고 있음을 시사합니다. 하지만 경기 침체 상황에서 건설사들이 정비사업을 선별적으로 수주하는 추세라는 점도 언급되어 있어, 부동산 시장이 전반적으로 활발하지는 않을 수 있음을 암시합니다.\\n\\n요약하면, 현재 제공된 정보만으로는 집값의 향방을 명확히 예측하기 어렵고, 일부 재개발 사업은 진행 중이나 경기 침체 영향으로 건설사들이 신중한 수주 전략을 취하고 있다는 점을 참고할 수 있습니다.'"
      ]
     },
     "execution_count": 37,
     "metadata": {},
     "output_type": "execute_result"
    }
   ],
   "source": [
    "final_rag_chain.invoke(question)"
   ]
  }
 ],
 "metadata": {
  "kernelspec": {
   "display_name": ".venv",
   "language": "python",
   "name": "python3"
  },
  "language_info": {
   "codemirror_mode": {
    "name": "ipython",
    "version": 3
   },
   "file_extension": ".py",
   "mimetype": "text/x-python",
   "name": "python",
   "nbconvert_exporter": "python",
   "pygments_lexer": "ipython3",
   "version": "3.12.9"
  }
 },
 "nbformat": 4,
 "nbformat_minor": 5
}
